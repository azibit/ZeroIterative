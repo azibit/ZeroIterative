{
 "cells": [
  {
   "cell_type": "code",
   "execution_count": 1,
   "metadata": {},
   "outputs": [
    {
     "name": "stdout",
     "output_type": "stream",
     "text": [
      "{'choices': [{'content_filter_results': {'hate': {'filtered': False, 'severity': 'safe'}, 'protected_material_code': {'filtered': False, 'detected': False}, 'protected_material_text': {'filtered': False, 'detected': False}, 'self_harm': {'filtered': False, 'severity': 'safe'}, 'sexual': {'filtered': False, 'severity': 'safe'}, 'violence': {'filtered': False, 'severity': 'safe'}}, 'finish_reason': 'stop', 'index': 0, 'logprobs': None, 'message': {'content': 'How can I assist you today?', 'role': 'assistant'}}], 'created': 1733289960, 'id': 'chatcmpl-AacBcAFpJiSoEtZ1FGtB4Sw6D58uy', 'model': 'gpt-4o-mini', 'object': 'chat.completion', 'prompt_filter_results': [{'prompt_index': 0, 'content_filter_results': {}}], 'system_fingerprint': 'fp_04751d0b65', 'usage': {'completion_tokens': 7, 'prompt_tokens': 18, 'total_tokens': 25}}\n"
     ]
    }
   ],
   "source": [
    "import os\n",
    "import requests\n",
    "import base64\n",
    "\n",
    "# Configuration\n",
    "API_KEY = \"2m5MBTtrE08EGvkQdS5tA4qPdKFwRzYSP0ShbTOZOAoRMhwpcxdWJQQJ99AKACYeBjFXJ3w3AAAAACOGktbv\"\n",
    "IMAGE_PATH = \"image_22421.png\"\n",
    "encoded_image = base64.b64encode(open(IMAGE_PATH, 'rb').read()).decode('ascii')\n",
    "headers = {\n",
    "    \"Content-Type\": \"application/json\",\n",
    "    \"api-key\": API_KEY,\n",
    "}\n",
    "\n",
    "# Payload for the request\n",
    "payload = {\n",
    "  \"messages\": [\n",
    "    {\n",
    "      \"role\": \"system\",\n",
    "      \"content\": [\n",
    "        {\n",
    "          \"type\": \"text\",\n",
    "          \"text\": \"You are an AI assistant that helps people find information.\"\n",
    "        }\n",
    "      ]\n",
    "    }\n",
    "  ],\n",
    "  \"temperature\": 0.7,\n",
    "  \"top_p\": 0.95,\n",
    "  \"max_tokens\": 800\n",
    "}\n",
    "\n",
    "ENDPOINT = \"https://aiiionmodelshu1205052997.openai.azure.com/openai/deployments/gpt-4o-mini/chat/completions?api-version=2024-02-15-preview\"\n",
    "\n",
    "# Send request\n",
    "try:\n",
    "    response = requests.post(ENDPOINT, headers=headers, json=payload)\n",
    "    response.raise_for_status()  # Will raise an HTTPError if the HTTP request returned an unsuccessful status code\n",
    "except requests.RequestException as e:\n",
    "    raise SystemExit(f\"Failed to make the request. Error: {e}\")\n",
    "\n",
    "# Handle the response as needed (e.g., print or process)\n",
    "print(response.json())"
   ]
  },
  {
   "cell_type": "code",
   "execution_count": 2,
   "metadata": {},
   "outputs": [],
   "source": [
    "import os\n",
    "from openai import AzureOpenAI\n",
    "\n",
    "client = AzureOpenAI(\n",
    "  azure_endpoint = \"https://aiiionmodelshu1205052997.openai.azure.com/openai/deployments/gpt-4o-mini/chat/completions?api-version=\",\n",
    "  api_key=\"2m5MBTtrE08EGvkQdS5tA4qPdKFwRzYSP0ShbTOZOAoRMhwpcxdWJQQJ99AKACYeBjFXJ3w3AAAAACOGktbv\",  \n",
    "  api_version=\"2024-02-15-preview\"\n",
    ")"
   ]
  },
  {
   "cell_type": "code",
   "execution_count": 3,
   "metadata": {},
   "outputs": [],
   "source": [
    "response = client.chat.completions.create(\n",
    "    model=\"gpt-35-turbo\", # model = \"deployment_name\".\n",
    "    messages=[\n",
    "        {\"role\": \"system\", \"content\": \"You are a helpful assistant.\"},\n",
    "        {\"role\": \"user\", \"content\": \"Does Azure OpenAI support customer managed keys?\"},\n",
    "        {\"role\": \"assistant\", \"content\": \"Yes, customer managed keys are supported by Azure OpenAI.\"},\n",
    "        {\"role\": \"user\", \"content\": \"Do other Azure AI services support this too?\"}\n",
    "    ]\n",
    ")"
   ]
  },
  {
   "cell_type": "code",
   "execution_count": 4,
   "metadata": {},
   "outputs": [
    {
     "name": "stdout",
     "output_type": "stream",
     "text": [
      "Yes, several other Azure AI services support customer-managed keys as part of Azure's broader commitment to security and compliance. Specifically, services like Azure Machine Learning, Azure Cognitive Services, and Azure Synapse Analytics allow users to manage their own encryption keys through Azure Key Vault. This feature enables customers to maintain control over their data encryption and enhance the security of their applications. \n",
      "\n",
      "Please check the official Azure documentation for the most up-to-date information on specific services and their capabilities regarding customer-managed keys.\n"
     ]
    }
   ],
   "source": [
    "print(response.choices[0].message.content)\n"
   ]
  },
  {
   "cell_type": "code",
   "execution_count": 1,
   "metadata": {},
   "outputs": [],
   "source": [
    "from SingleClassPrediction import SingleClassPrediction, SingleClassImageTask"
   ]
  },
  {
   "cell_type": "code",
   "execution_count": 2,
   "metadata": {},
   "outputs": [],
   "source": [
    "sc_pred = SingleClassPrediction(batch_size=2, max_workers=2)"
   ]
  },
  {
   "cell_type": "code",
   "execution_count": 3,
   "metadata": {},
   "outputs": [],
   "source": [
    "sc_list = [\n",
    "    SingleClassImageTask(image_path='image_22421.png', classes = ['Normal', 'Pneumonia'])\n",
    "]"
   ]
  },
  {
   "cell_type": "code",
   "execution_count": 4,
   "metadata": {},
   "outputs": [
    {
     "name": "stdout",
     "output_type": "stream",
     "text": [
      "have to call from here\n"
     ]
    },
    {
     "data": {
      "text/plain": [
       "{'images': [{'predicted_classes': [{'class': 'Normal',\n",
       "     'confidence': 0.85,\n",
       "     'key_features': ['clear lung fields',\n",
       "      'well-defined vascular markings',\n",
       "      'normal diaphragm shape']},\n",
       "    {'class': 'Pneumonia',\n",
       "     'confidence': 0.15,\n",
       "     'key_features': ['slight opacity in lower lung zones',\n",
       "      'possible infiltrates',\n",
       "      'irregular borders in affected areas']}],\n",
       "   'image_path': 'image_22421.png'}]}"
      ]
     },
     "execution_count": 4,
     "metadata": {},
     "output_type": "execute_result"
    }
   ],
   "source": [
    "sc_pred.process_images(sc_list)"
   ]
  },
  {
   "cell_type": "code",
   "execution_count": null,
   "metadata": {},
   "outputs": [],
   "source": []
  }
 ],
 "metadata": {
  "kernelspec": {
   "display_name": "Python 3",
   "language": "python",
   "name": "python3"
  },
  "language_info": {
   "codemirror_mode": {
    "name": "ipython",
    "version": 3
   },
   "file_extension": ".py",
   "mimetype": "text/x-python",
   "name": "python",
   "nbconvert_exporter": "python",
   "pygments_lexer": "ipython3",
   "version": "3.10.11"
  }
 },
 "nbformat": 4,
 "nbformat_minor": 2
}
