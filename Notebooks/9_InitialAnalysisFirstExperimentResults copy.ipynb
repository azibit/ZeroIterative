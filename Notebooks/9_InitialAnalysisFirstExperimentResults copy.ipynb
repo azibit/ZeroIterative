{
 "cells": [
  {
   "cell_type": "markdown",
   "metadata": {},
   "source": [
    "#### This code is to perform error analysis on a random number of images selected from different datasets"
   ]
  },
  {
   "cell_type": "code",
   "execution_count": 1,
   "metadata": {},
   "outputs": [],
   "source": [
    "import base64\n",
    "import httpx\n",
    "import anthropic\n",
    "import json\n",
    "import random\n",
    "import glob as glob\n",
    "from collections import Counter\n",
    "\n",
    "from openai import OpenAI \n",
    "import os\n",
    "import pandas as pd\n",
    "from tqdm import tqdm\n",
    "from tqdm.notebook import tqdm as tqdm_notebook\n",
    "import time\n",
    "from Important_script_1 import *"
   ]
  },
  {
   "cell_type": "code",
   "execution_count": 2,
   "metadata": {},
   "outputs": [],
   "source": [
    "DATASET_NAME = \"DermaMNIST-4A\"\n",
    "NUMBER_OF_IMAGES = 100"
   ]
  },
  {
   "cell_type": "code",
   "execution_count": 3,
   "metadata": {},
   "outputs": [],
   "source": [
    "dataset_class_name_dict = {\n",
    "        \"DermaMNIST-2\": {\n",
    "        '0': 'actinic keratoses and intraepithelial carcinoma',\n",
    "        '1': 'basal cell carcinoma',\n",
    "        # '2': 'benign keratosis-like lesions',\n",
    "        # '3': 'dermatofibroma',\n",
    "        # '4': 'melanoma',\n",
    "        # '5': 'melanocytic nevi',\n",
    "        # '6': 'vascular lesions'\n",
    "    },\n",
    "\n",
    "    \"DermaMNIST-4A\": {\n",
    "        # '0': 'actinic keratoses and intraepithelial carcinoma',\n",
    "        # '1': 'basal cell carcinoma',\n",
    "        # '2': 'benign keratosis-like lesions',\n",
    "        '3': 'dermatofibroma',\n",
    "        '4': 'melanoma',\n",
    "        '5': 'melanocytic nevi',\n",
    "        '6': 'vascular lesions'\n",
    "    },\n",
    "        \"DermaMNIST-4\": {\n",
    "        '0': 'actinic keratoses and intraepithelial carcinoma',\n",
    "        '1': 'basal cell carcinoma',\n",
    "        '2': 'benign keratosis-like lesions',\n",
    "        '3': 'dermatofibroma',\n",
    "        # '4': 'melanoma',\n",
    "        # '5': 'melanocytic nevi',\n",
    "        # '6': 'vascular lesions'\n",
    "    },\n",
    "\n",
    "    \"DermaMNIST\": {\n",
    "        '0': 'actinic keratoses and intraepithelial carcinoma',\n",
    "        '1': 'basal cell carcinoma',\n",
    "        '2': 'benign keratosis-like lesions',\n",
    "        '3': 'dermatofibroma',\n",
    "        '4': 'melanoma',\n",
    "        '5': 'melanocytic nevi',\n",
    "        '6': 'vascular lesions'\n",
    "    },\n",
    "\n",
    "    \"OctMNIST-2A\": {\n",
    "        # \"0\": \"choroidal neovascularization\",\n",
    "        # \"1\": \"diabetic macular edema\",\n",
    "        \"2\": \"drusen\",\n",
    "        \"3\": \"normal\",\n",
    "    },\n",
    "\n",
    "    \"OctMNIST-2\": {\n",
    "        \"0\": \"choroidal neovascularization\",\n",
    "        \"1\": \"diabetic macular edema\",\n",
    "        # \"2\": \"drusen\",\n",
    "        # \"3\": \"normal\",\n",
    "    },\n",
    "\n",
    "    \"OctMNIST\": {\n",
    "        \"0\": \"choroidal neovascularization\",\n",
    "        \"1\": \"diabetic macular edema\",\n",
    "        \"2\": \"drusen\",\n",
    "        \"3\": \"normal\",\n",
    "    },\n",
    "\n",
    "    'PneumoniaMNIST': {\n",
    "        \"0\": \"normal\", \n",
    "        \"1\": \"pneumonia\"\n",
    "        }\n",
    "}"
   ]
  },
  {
   "cell_type": "code",
   "execution_count": 4,
   "metadata": {},
   "outputs": [],
   "source": [
    "source_directory = f\"../Datasets/{DATASET_NAME}/test\"  # Change this to your test directory path\n",
    "\n",
    "# Get randomly selected files\n",
    "selected = select_random_files(source_dir=source_directory, n_files=100, random_state=42)\n",
    "image_paths = []\n",
    "\n",
    "# Print results\n",
    "for folder, files in selected.items():\n",
    "    for file in files:\n",
    "        # print(f\"  - {file}\")\n",
    "        image_paths.append(f\"{source_directory}/{folder}/{file}\")\n",
    "\n",
    "import random\n",
    "\n",
    "# Set random seed for reproducibility (optional)\n",
    "random.seed(42)\n",
    "\n",
    "my_list = image_paths\n",
    "\n",
    "image_paths = random.sample(my_list, NUMBER_OF_IMAGES)"
   ]
  },
  {
   "cell_type": "code",
   "execution_count": 5,
   "metadata": {},
   "outputs": [],
   "source": [
    "dataset_classes_of_interest =  dataset_class_name_dict[DATASET_NAME]\n",
    "classes_of_interest = list(dataset_classes_of_interest.values())"
   ]
  },
  {
   "cell_type": "markdown",
   "metadata": {},
   "source": [
    "#### Playground"
   ]
  },
  {
   "cell_type": "code",
   "execution_count": 6,
   "metadata": {},
   "outputs": [
    {
     "data": {
      "application/vnd.jupyter.widget-view+json": {
       "model_id": "4fc4c97735be4f0da25e1ee69638bfc7",
       "version_major": 2,
       "version_minor": 0
      },
      "text/plain": [
       "Total Progress:   0%|          | 0/100 [00:00<?, ?image/s]"
      ]
     },
     "metadata": {},
     "output_type": "display_data"
    }
   ],
   "source": [
    "pred_classes_openai = generate_medical_diagnosis_parallel(image_paths, classes_of_interest, \"openai\", max_workers=2, batch_size=10)"
   ]
  },
  {
   "cell_type": "code",
   "execution_count": null,
   "metadata": {},
   "outputs": [
    {
     "data": {
      "application/vnd.jupyter.widget-view+json": {
       "model_id": "d89b002496b24f8fa36eefaebcd32a08",
       "version_major": 2,
       "version_minor": 0
      },
      "text/plain": [
       "Total Progress:   0%|          | 0/100 [00:00<?, ?image/s]"
      ]
     },
     "metadata": {},
     "output_type": "display_data"
    }
   ],
   "source": [
    "# pred_classes_claude = generate_medical_diagnosis_parallel(image_paths, classes_of_interest, \"claude\", max_workers=2, batch_size=10)"
   ]
  },
  {
   "cell_type": "code",
   "execution_count": 7,
   "metadata": {},
   "outputs": [],
   "source": [
    "def collect_class_predictions(class_predictions):\n",
    "    list_of_predicted_classes = []\n",
    "    list_of_correct_classes = []\n",
    "    for image_name, prediction in class_predictions.items():\n",
    "    # print(f\"Image: {image_name}\")\n",
    "    # Get the predicted class\n",
    "        predicted_class = prediction['predictedClass']\n",
    "        list_of_predicted_classes.append(predicted_class)\n",
    "\n",
    "    # Get the correct class\n",
    "        file_path = prediction['file_path']\n",
    "        correct_class = file_path.split('/')[-2]\n",
    "        list_of_correct_classes.append(dataset_class_name_dict[DATASET_NAME][correct_class])\n",
    "\n",
    "    return list_of_predicted_classes, list_of_correct_classes"
   ]
  },
  {
   "cell_type": "code",
   "execution_count": 8,
   "metadata": {},
   "outputs": [],
   "source": [
    "list_of_predicted_classes_openai, list_of_correct_classes_openai = collect_class_predictions(pred_classes_openai)"
   ]
  },
  {
   "cell_type": "code",
   "execution_count": null,
   "metadata": {},
   "outputs": [],
   "source": [
    "# list_of_predicted_classes_claude, list_of_correct_classes_claude = collect_class_predictions(pred_classes_claude)"
   ]
  },
  {
   "cell_type": "code",
   "execution_count": 9,
   "metadata": {},
   "outputs": [
    {
     "data": {
      "text/plain": [
       "40"
      ]
     },
     "execution_count": 9,
     "metadata": {},
     "output_type": "execute_result"
    }
   ],
   "source": [
    "count_matches(list_of_correct_classes_openai, list_of_predicted_classes_openai)"
   ]
  },
  {
   "cell_type": "code",
   "execution_count": null,
   "metadata": {},
   "outputs": [
    {
     "data": {
      "text/plain": [
       "48"
      ]
     },
     "execution_count": 12,
     "metadata": {},
     "output_type": "execute_result"
    }
   ],
   "source": [
    "# count_matches(list_of_correct_classes_claude, list_of_predicted_classes_claude)"
   ]
  },
  {
   "cell_type": "code",
   "execution_count": 10,
   "metadata": {},
   "outputs": [],
   "source": [
    "pd.DataFrame(pred_classes_openai).T.to_csv(\"openai_gpt-4o-mini_predictions_zero_shot_direct_dermamnist_reduced_class_4A_V3.csv\")\n",
    "# pd.DataFrame(pred_classes_claude).T.to_csv(\"claude_predictions_zero_shot_direct_dermamnist_reduced_class_4A_V3.csv\")"
   ]
  },
  {
   "cell_type": "code",
   "execution_count": 12,
   "metadata": {},
   "outputs": [],
   "source": [
    "image_paths_list = image_paths[18:19]"
   ]
  },
  {
   "cell_type": "code",
   "execution_count": 10,
   "metadata": {},
   "outputs": [
    {
     "name": "stderr",
     "output_type": "stream",
     "text": [
      "Processing images: 100%|██████████| 1/1 [00:11<00:00, 11.54s/it]\n"
     ]
    }
   ],
   "source": [
    "unbiased_features = analyze_images_unbiased_parallel(image_paths_list, classes_of_interest, model_type=\"openai\", max_retries=3, max_workers=2)"
   ]
  },
  {
   "cell_type": "code",
   "execution_count": 11,
   "metadata": {},
   "outputs": [
    {
     "data": {
      "text/plain": [
       "{'../Datasets/DermaMNIST/test/1/image_293.png': [\"Error: Error code: 429 - {'error': {'message': 'You exceeded your current quota, please check your plan and billing details. For more information on this error, read the docs: https://platform.openai.com/docs/guides/error-codes/api-errors.', 'type': 'insufficient_quota', 'param': None, 'code': 'insufficient_quota'}}\"]}"
      ]
     },
     "execution_count": 11,
     "metadata": {},
     "output_type": "execute_result"
    }
   ],
   "source": [
    "unbiased_features"
   ]
  },
  {
   "cell_type": "code",
   "execution_count": 61,
   "metadata": {},
   "outputs": [],
   "source": [
    "base_features = extract_base_features(unbiased_features)"
   ]
  },
  {
   "cell_type": "code",
   "execution_count": 65,
   "metadata": {},
   "outputs": [],
   "source": [
    "c0 = generate_single_class_description_test_test(image_paths_list[0], classes_of_interest, classes_of_interest[0], base_features=base_features)\n",
    "c1 = generate_single_class_description_test_test(image_paths_list[0], classes_of_interest, classes_of_interest[1], base_features=base_features)\n",
    "c2 = generate_single_class_description_test_test(image_paths_list[0], classes_of_interest, classes_of_interest[2], base_features=base_features)\n",
    "c3 = generate_single_class_description_test_test(image_paths_list[0], classes_of_interest, classes_of_interest[3], base_features=base_features)"
   ]
  },
  {
   "cell_type": "code",
   "execution_count": 66,
   "metadata": {},
   "outputs": [
    {
     "data": {
      "text/plain": [
       "(3,\n",
       " 80,\n",
       " [\"Candidate 3 describes a 'smooth surface', which matches the reference's 'smooth surface'.\",\n",
       "  \"Candidate 3 mentions 'homogeneous texture', which is semantically similar to the reference's 'uniform texture'.\",\n",
       "  \"Candidate 3 uses 'well-defined boundary', which is very similar to the reference's 'defined boundaries'.\",\n",
       "  \"The overall pattern in Candidate 3 is more consistent with the reference due to the use of terms like 'uniform' and 'consistent', which align with the reference's 'layered structure' and 'central thickening'.\",\n",
       "  \"Candidates 0, 1, and 2 describe features that are opposite or unrelated to the reference, such as 'irregular structure' and 'blurred boundary'.\"])"
      ]
     },
     "execution_count": 66,
     "metadata": {},
     "output_type": "execute_result"
    }
   ],
   "source": [
    "find_closest_description(unbiased_features, [c0, c1, c2, c3], \"openai\")"
   ]
  },
  {
   "cell_type": "code",
   "execution_count": 60,
   "metadata": {},
   "outputs": [
    {
     "data": {
      "text/plain": [
       "'Datasets/OctMNIST/test/1/700.png'"
      ]
     },
     "execution_count": 60,
     "metadata": {},
     "output_type": "execute_result"
    }
   ],
   "source": [
    "image_paths_list[0]"
   ]
  },
  {
   "cell_type": "markdown",
   "metadata": {},
   "source": [
    "#### Playground 2"
   ]
  },
  {
   "cell_type": "code",
   "execution_count": 67,
   "metadata": {},
   "outputs": [],
   "source": [
    "nc0 = generate_single_class_description(image_paths_list[0], classes_of_interest, classes_of_interest[0])\n",
    "nc1 = generate_single_class_description(image_paths_list[0], classes_of_interest, classes_of_interest[1])\n",
    "nc2 = generate_single_class_description(image_paths_list[0], classes_of_interest, classes_of_interest[2])\n",
    "nc3 = generate_single_class_description(image_paths_list[0], classes_of_interest, classes_of_interest[3])"
   ]
  },
  {
   "cell_type": "code",
   "execution_count": 71,
   "metadata": {},
   "outputs": [],
   "source": [
    "bs_features = extract_base_features(list(set(nc0 + nc1 + nc2 + nc3)))"
   ]
  },
  {
   "cell_type": "code",
   "execution_count": 72,
   "metadata": {},
   "outputs": [],
   "source": [
    "image_feat_unbiased_descriptions = generate_unbiased_description_test_test(image_paths_list[0], classes_of_interest, list(set(bs_features)))"
   ]
  },
  {
   "cell_type": "code",
   "execution_count": 73,
   "metadata": {},
   "outputs": [
    {
     "data": {
      "text/plain": [
       "(3,\n",
       " 75,\n",
       " [\"Both describe smoothness in the structure ('smooth surface' vs 'smooth retinal layers')\",\n",
       "  \"Both mention uniformity ('uniform pattern' vs 'uniform texture')\",\n",
       "  \"Candidate 3 lacks a direct mention of 'clear boundary', but 'absence of subretinal fluid' suggests a clear delineation\",\n",
       "  \"Overall, Candidate 3's features align more closely with the reference's emphasis on smoothness and uniformity\"])"
      ]
     },
     "execution_count": 73,
     "metadata": {},
     "output_type": "execute_result"
    }
   ],
   "source": [
    "find_closest_description(image_feat_unbiased_descriptions, [nc0, nc1, nc2, nc3])"
   ]
  },
  {
   "cell_type": "code",
   "execution_count": 45,
   "metadata": {},
   "outputs": [
    {
     "data": {
      "text/plain": [
       "['Datasets/OctMNIST/test/3/822.png']"
      ]
     },
     "execution_count": 45,
     "metadata": {},
     "output_type": "execute_result"
    }
   ],
   "source": [
    "image_paths_list"
   ]
  },
  {
   "cell_type": "code",
   "execution_count": 47,
   "metadata": {},
   "outputs": [],
   "source": [
    "nc1 = generate_single_class_description_test_test(image_paths_list[0], classes_of_interest, classes_of_interest[0], bs_features)\n",
    "nc2 = generate_single_class_description_test_test(image_paths_list[0], classes_of_interest, classes_of_interest[1], bs_features)\n",
    "nc3 = generate_single_class_description_test_test(image_paths_list[0], classes_of_interest, classes_of_interest[2], bs_features)\n",
    "nc4 = generate_single_class_description_test_test(image_paths_list[0], classes_of_interest, classes_of_interest[3], bs_features)"
   ]
  },
  {
   "cell_type": "code",
   "execution_count": 48,
   "metadata": {},
   "outputs": [
    {
     "data": {
      "text/plain": [
       "(3,\n",
       " 60,\n",
       " [\"Both sets describe 'localized thickening', which is similar to 'slight thickening' in the reference.\",\n",
       "  \"The term 'irregular structure' in the candidate set contrasts with 'curved shape' and 'layered structure' in the reference, but both describe structural features.\",\n",
       "  \"The candidate's 'discrete elevation' is somewhat similar to 'smooth elevation', though not identical.\",\n",
       "  \"The presence of 'subretinal deposit' in the candidate set is opposite to 'absent deposit' in the reference, indicating a difference.\",\n",
       "  \"The candidate's 'heterogeneous reflectivity' contrasts with 'uniform texture', but both address texture and reflectivity.\"])"
      ]
     },
     "execution_count": 48,
     "metadata": {},
     "output_type": "execute_result"
    }
   ],
   "source": [
    "find_closest_description(unbiased_descriptions, [nc0, nc1, nc2, nc3])"
   ]
  },
  {
   "cell_type": "code",
   "execution_count": 35,
   "metadata": {},
   "outputs": [
    {
     "data": {
      "text/plain": [
       "['layered structure',\n",
       " 'uniform pattern',\n",
       " 'smooth surface',\n",
       " 'clear boundary',\n",
       " 'consistent thickness']"
      ]
     },
     "execution_count": 35,
     "metadata": {},
     "output_type": "execute_result"
    }
   ],
   "source": [
    "unbiased_descriptions"
   ]
  },
  {
   "cell_type": "code",
   "execution_count": 23,
   "metadata": {},
   "outputs": [
    {
     "data": {
      "text/plain": [
       "['irregular structure',\n",
       " 'localized thickening',\n",
       " 'heterogeneous reflectivity',\n",
       " 'subretinal fluid accumulation',\n",
       " 'disrupted retinal layers']"
      ]
     },
     "execution_count": 23,
     "metadata": {},
     "output_type": "execute_result"
    }
   ],
   "source": [
    "nc1"
   ]
  },
  {
   "cell_type": "code",
   "execution_count": 24,
   "metadata": {},
   "outputs": [
    {
     "data": {
      "text/plain": [
       "['Datasets/OctMNIST/test/1/700.png']"
      ]
     },
     "execution_count": 24,
     "metadata": {},
     "output_type": "execute_result"
    }
   ],
   "source": [
    "image_paths_list"
   ]
  },
  {
   "cell_type": "code",
   "execution_count": 18,
   "metadata": {},
   "outputs": [
    {
     "data": {
      "text/plain": [
       "(3,\n",
       " 75,\n",
       " [\"Both describe 'smooth surface' with 'smooth retinal surface'\",\n",
       "  \"Candidate 3 mentions 'uniform retinal layers', similar to 'uniform pattern'\",\n",
       "  \"The 'consistent reflectivity across layers' in Candidate 3 aligns with 'variable reflectivity' in terms of discussing reflectivity, though not identical\",\n",
       "  \"Absence of fluid accumulation in Candidate 3 suggests a 'clear boundary', as fluid presence often disrupts boundaries\",\n",
       "  \"Overall, Candidate 3 describes a more organized and consistent retinal structure, similar to the reference's 'layered structure' and 'clear boundary'\"])"
      ]
     },
     "execution_count": 18,
     "metadata": {},
     "output_type": "execute_result"
    }
   ],
   "source": [
    "find_closest_description(unbiased_descriptions, [nc0, nc1, nc2, nc3])"
   ]
  },
  {
   "cell_type": "code",
   "execution_count": 20,
   "metadata": {},
   "outputs": [
    {
     "data": {
      "text/plain": [
       "['retinal thickening', 'intraretinal fluid accumulation']"
      ]
     },
     "execution_count": 20,
     "metadata": {},
     "output_type": "execute_result"
    }
   ],
   "source": [
    "nc1"
   ]
  },
  {
   "cell_type": "code",
   "execution_count": 46,
   "metadata": {},
   "outputs": [
    {
     "data": {
      "text/plain": [
       "'Datasets/OctMNIST/test/3/822.png'"
      ]
     },
     "execution_count": 46,
     "metadata": {},
     "output_type": "execute_result"
    }
   ],
   "source": [
    "image_paths_list[0]"
   ]
  },
  {
   "cell_type": "code",
   "execution_count": 17,
   "metadata": {},
   "outputs": [
    {
     "name": "stderr",
     "output_type": "stream",
     "text": [
      "Processing images: 100%|██████████| 1/1 [00:05<00:00,  5.51s/it]\n"
     ]
    }
   ],
   "source": [
    "biased_description = analyze_images_and_classes_parallel(image_paths[:1], classes_of_interest, model_type=\"openai\")"
   ]
  },
  {
   "cell_type": "code",
   "execution_count": 7,
   "metadata": {},
   "outputs": [],
   "source": [
    "r1 = generate_single_class_description_test_test(image_paths[0], classes_of_interest, classes_of_interest[0])"
   ]
  },
  {
   "cell_type": "code",
   "execution_count": 15,
   "metadata": {},
   "outputs": [
    {
     "name": "stderr",
     "output_type": "stream",
     "text": [
      "Processing images: 100%|██████████| 1/1 [00:06<00:00,  6.05s/it]\n"
     ]
    }
   ],
   "source": []
  },
  {
   "cell_type": "code",
   "execution_count": 16,
   "metadata": {},
   "outputs": [
    {
     "data": {
      "text/plain": [
       "{'Datasets/OctMNIST/test/2/797.png': {'choroidal neovascularization': ['irregular subretinal hyperreflective material',\n",
       "   'disruption of retinal layers',\n",
       "   'presence of subretinal fluid'],\n",
       "  'diabetic macular edema': ['retinal thickening',\n",
       "   'intraretinal fluid accumulation',\n",
       "   'cystoid spaces'],\n",
       "  'drusen': ['small, round, yellowish deposits',\n",
       "   'discrete, well-defined borders',\n",
       "   'scattered distribution beneath the retinal pigment epithelium'],\n",
       "  'normal': ['uniform retinal layers',\n",
       "   'absence of subretinal fluid',\n",
       "   'smooth retinal contour',\n",
       "   'lack of hyperreflective spots']}}"
      ]
     },
     "execution_count": 16,
     "metadata": {},
     "output_type": "execute_result"
    }
   ],
   "source": [
    "new_rs"
   ]
  },
  {
   "cell_type": "code",
   "execution_count": 31,
   "metadata": {},
   "outputs": [
    {
     "name": "stderr",
     "output_type": "stream",
     "text": [
      "Processing images: 100%|██████████| 1/1 [00:01<00:00,  1.45s/it]\n"
     ]
    }
   ],
   "source": []
  },
  {
   "cell_type": "code",
   "execution_count": 32,
   "metadata": {},
   "outputs": [
    {
     "data": {
      "text/plain": [
       "{'Datasets/OctMNIST/test/0/857.png': ['layered structure',\n",
       "  'central thickening',\n",
       "  'irregular surface',\n",
       "  'variations in reflectivity',\n",
       "  'defined boundaries']}"
      ]
     },
     "execution_count": 32,
     "metadata": {},
     "output_type": "execute_result"
    }
   ],
   "source": [
    "rs"
   ]
  },
  {
   "cell_type": "code",
   "execution_count": 8,
   "metadata": {},
   "outputs": [
    {
     "name": "stderr",
     "output_type": "stream",
     "text": [
      "Processing images: 100%|██████████| 1/1 [00:03<00:00,  3.26s/it]\n"
     ]
    }
   ],
   "source": [
    "rs = analyze_images_unbiased_parallel(image_paths[:1], classes_of_interest, model_type=\"openai\", max_retries=3, max_workers=2)"
   ]
  },
  {
   "cell_type": "code",
   "execution_count": 33,
   "metadata": {},
   "outputs": [
    {
     "data": {
      "text/plain": [
       "['structure', 'thickening', 'surface', 'reflectivity', 'boundary']"
      ]
     },
     "execution_count": 33,
     "metadata": {},
     "output_type": "execute_result"
    }
   ],
   "source": [
    "extract_base_features(['layered structure',\n",
    "  'central thickening',\n",
    "  'irregular surface',\n",
    "  'variations in reflectivity',\n",
    "  'defined boundaries'])"
   ]
  },
  {
   "cell_type": "code",
   "execution_count": 10,
   "metadata": {},
   "outputs": [
    {
     "name": "stderr",
     "output_type": "stream",
     "text": [
      "Processing images: 100%|██████████| 1/1 [00:01<00:00,  1.18s/it]\n"
     ]
    }
   ],
   "source": [
    "rs = analyze_images_unbiased_parallel(image_paths[:1], classes_of_interest, model_type=\"openai\", max_retries=3, max_workers=2)"
   ]
  },
  {
   "cell_type": "code",
   "execution_count": 11,
   "metadata": {},
   "outputs": [
    {
     "data": {
      "text/plain": [
       "{'Datasets/OctMNIST/test/2/797.png': ['layered structure',\n",
       "  'irregular undulations',\n",
       "  'variations in reflectivity',\n",
       "  'smooth surface areas',\n",
       "  'distinct boundaries between layers']}"
      ]
     },
     "execution_count": 11,
     "metadata": {},
     "output_type": "execute_result"
    }
   ],
   "source": [
    "rs"
   ]
  },
  {
   "cell_type": "code",
   "execution_count": 12,
   "metadata": {},
   "outputs": [
    {
     "name": "stderr",
     "output_type": "stream",
     "text": [
      "Processing images: 100%|██████████| 1/1 [00:02<00:00,  2.01s/it]\n"
     ]
    }
   ],
   "source": [
    "rs = analyze_images_unbiased_parallel(image_paths[:1], classes_of_interest, model_type=\"openai\", max_retries=3, max_workers=2)"
   ]
  },
  {
   "cell_type": "code",
   "execution_count": 13,
   "metadata": {},
   "outputs": [
    {
     "data": {
      "text/plain": [
       "{'Datasets/OctMNIST/test/2/797.png': ['layered structure',\n",
       "  'wavy pattern',\n",
       "  'variations in brightness',\n",
       "  'smooth surface',\n",
       "  'distinct boundaries']}"
      ]
     },
     "execution_count": 13,
     "metadata": {},
     "output_type": "execute_result"
    }
   ],
   "source": [
    "rs"
   ]
  },
  {
   "cell_type": "code",
   "execution_count": 14,
   "metadata": {},
   "outputs": [
    {
     "name": "stderr",
     "output_type": "stream",
     "text": [
      "Processing images: 100%|██████████| 1/1 [00:01<00:00,  1.66s/it]\n"
     ]
    },
    {
     "data": {
      "text/plain": [
       "{'Datasets/OctMNIST/test/2/797.png': ['layered structure',\n",
       "  'wavy pattern',\n",
       "  'variations in brightness',\n",
       "  'smooth surface',\n",
       "  'distinct boundaries']}"
      ]
     },
     "execution_count": 14,
     "metadata": {},
     "output_type": "execute_result"
    }
   ],
   "source": [
    "rs = analyze_images_unbiased_parallel(image_paths[:1], classes_of_interest, model_type=\"openai\", max_retries=3, max_workers=2)\n",
    "rs"
   ]
  },
  {
   "cell_type": "code",
   "execution_count": 7,
   "metadata": {},
   "outputs": [
    {
     "name": "stderr",
     "output_type": "stream",
     "text": [
      "Processing images: 100%|██████████| 5/5 [00:25<00:00,  5.10s/it]\n"
     ]
    }
   ],
   "source": [
    "rs = analyze_images_and_classes_parallel(image_paths[:5], classes_of_interest, model_type=\"openai\", max_retries=3, max_workers=2)"
   ]
  },
  {
   "cell_type": "code",
   "execution_count": 29,
   "metadata": {},
   "outputs": [
    {
     "name": "stderr",
     "output_type": "stream",
     "text": [
      "Processing images: 100%|██████████| 1/1 [00:08<00:00,  8.59s/it]\n"
     ]
    }
   ],
   "source": [
    "new_rs = analyze_images_and_classes_parallel(image_paths[:1], classes_of_interest, model_type=\"openai\")"
   ]
  },
  {
   "cell_type": "code",
   "execution_count": 30,
   "metadata": {},
   "outputs": [
    {
     "data": {
      "text/plain": [
       "{'Datasets/OctMNIST/test/2/797.png': {'choroidal neovascularization': ['irregular subretinal hyperreflective material',\n",
       "   'disruption of retinal layers',\n",
       "   'subretinal fluid accumulation'],\n",
       "  'diabetic macular edema': ['retinal thickening',\n",
       "   'cystoid spaces within the retina',\n",
       "   'increased reflectivity in the macular region'],\n",
       "  'drusen': ['small, round, hyperreflective deposits',\n",
       "   \"located between the retinal pigment epithelium and Bruch's membrane\",\n",
       "   'irregular elevation of the retinal pigment epithelium'],\n",
       "  'normal': ['uniform retinal layers',\n",
       "   'absence of subretinal fluid',\n",
       "   'smooth retinal contour',\n",
       "   'lack of hyperreflective spots']}}"
      ]
     },
     "execution_count": 30,
     "metadata": {},
     "output_type": "execute_result"
    }
   ],
   "source": [
    "new_rs"
   ]
  },
  {
   "cell_type": "code",
   "execution_count": 7,
   "metadata": {},
   "outputs": [],
   "source": [
    "rs = generate_single_class_description(image_paths[0], classes_of_interest, classes_of_interest[0], model_type=\"openai\", image_media_type='image/png', max_retries=3)"
   ]
  },
  {
   "cell_type": "code",
   "execution_count": 8,
   "metadata": {},
   "outputs": [
    {
     "data": {
      "text/plain": [
       "['subretinal hyperreflective material',\n",
       " 'irregular retinal pigment epithelium elevation',\n",
       " 'disruption of retinal layers']"
      ]
     },
     "execution_count": 8,
     "metadata": {},
     "output_type": "execute_result"
    }
   ],
   "source": [
    "rs"
   ]
  },
  {
   "cell_type": "code",
   "execution_count": 9,
   "metadata": {},
   "outputs": [],
   "source": [
    "rs = generate_single_class_description(image_paths[0], classes_of_interest, classes_of_interest[1], model_type=\"openai\", image_media_type='image/png', max_retries=3)"
   ]
  },
  {
   "cell_type": "code",
   "execution_count": 10,
   "metadata": {},
   "outputs": [
    {
     "data": {
      "text/plain": [
       "['retinal thickening', 'intraretinal cystoid spaces']"
      ]
     },
     "execution_count": 10,
     "metadata": {},
     "output_type": "execute_result"
    }
   ],
   "source": [
    "rs"
   ]
  },
  {
   "cell_type": "code",
   "execution_count": null,
   "metadata": {},
   "outputs": [],
   "source": [
    "rs = generate_single_class_description(image_paths[0], classes_of_interest, classes_of_interest[1], model_type=\"openai\", image_media_type='image/png', max_retries=3)\n"
   ]
  },
  {
   "cell_type": "markdown",
   "metadata": {},
   "source": [
    "#### Do the standard LLM class prediction exercise"
   ]
  },
  {
   "cell_type": "code",
   "execution_count": 7,
   "metadata": {},
   "outputs": [
    {
     "data": {
      "application/vnd.jupyter.widget-view+json": {
       "model_id": "ca32500a5e274b58ba83153dff380c23",
       "version_major": 2,
       "version_minor": 0
      },
      "text/plain": [
       "Total Progress:   0%|          | 0/12 [00:00<?, ?image/s]"
      ]
     },
     "metadata": {},
     "output_type": "display_data"
    }
   ],
   "source": [
    "pred_classes_openai = generate_medical_diagnosis_parallel(image_paths, classes_of_interest, \"openai\", max_workers=2)"
   ]
  },
  {
   "cell_type": "code",
   "execution_count": 8,
   "metadata": {},
   "outputs": [
    {
     "data": {
      "text/plain": [
       "{'image_11': {'file_path': '../Datasets/DermaMNIST/test/4/image_1190.png',\n",
       "  'error': \"Error code: 429 - {'error': {'message': 'You exceeded your current quota, please check your plan and billing details. For more information on this error, read the docs: https://platform.openai.com/docs/guides/error-codes/api-errors.', 'type': 'insufficient_quota', 'param': None, 'code': 'insufficient_quota'}}\"},\n",
       " 'image_12': {'file_path': '../Datasets/DermaMNIST/test/0/image_1127.png',\n",
       "  'error': \"Error code: 429 - {'error': {'message': 'You exceeded your current quota, please check your plan and billing details. For more information on this error, read the docs: https://platform.openai.com/docs/guides/error-codes/api-errors.', 'type': 'insufficient_quota', 'param': None, 'code': 'insufficient_quota'}}\"},\n",
       " 'image_1': {'file_path': '../Datasets/DermaMNIST/test/5/image_1985.png',\n",
       "  'error': \"Error code: 429 - {'error': {'message': 'You exceeded your current quota, please check your plan and billing details. For more information on this error, read the docs: https://platform.openai.com/docs/guides/error-codes/api-errors.', 'type': 'insufficient_quota', 'param': None, 'code': 'insufficient_quota'}}\"},\n",
       " 'image_2': {'file_path': '../Datasets/DermaMNIST/test/0/image_1090.png',\n",
       "  'error': \"Error code: 429 - {'error': {'message': 'You exceeded your current quota, please check your plan and billing details. For more information on this error, read the docs: https://platform.openai.com/docs/guides/error-codes/api-errors.', 'type': 'insufficient_quota', 'param': None, 'code': 'insufficient_quota'}}\"},\n",
       " 'image_3': {'file_path': '../Datasets/DermaMNIST/test/0/image_1417.png',\n",
       "  'error': \"Error code: 429 - {'error': {'message': 'You exceeded your current quota, please check your plan and billing details. For more information on this error, read the docs: https://platform.openai.com/docs/guides/error-codes/api-errors.', 'type': 'insufficient_quota', 'param': None, 'code': 'insufficient_quota'}}\"},\n",
       " 'image_4': {'file_path': '../Datasets/DermaMNIST/test/6/image_1746.png',\n",
       "  'error': \"Error code: 429 - {'error': {'message': 'You exceeded your current quota, please check your plan and billing details. For more information on this error, read the docs: https://platform.openai.com/docs/guides/error-codes/api-errors.', 'type': 'insufficient_quota', 'param': None, 'code': 'insufficient_quota'}}\"},\n",
       " 'image_5': {'file_path': '../Datasets/DermaMNIST/test/2/image_901.png',\n",
       "  'error': \"Error code: 429 - {'error': {'message': 'You exceeded your current quota, please check your plan and billing details. For more information on this error, read the docs: https://platform.openai.com/docs/guides/error-codes/api-errors.', 'type': 'insufficient_quota', 'param': None, 'code': 'insufficient_quota'}}\"},\n",
       " 'image_6': {'file_path': '../Datasets/DermaMNIST/test/2/image_1581.png',\n",
       "  'error': \"Error code: 429 - {'error': {'message': 'You exceeded your current quota, please check your plan and billing details. For more information on this error, read the docs: https://platform.openai.com/docs/guides/error-codes/api-errors.', 'type': 'insufficient_quota', 'param': None, 'code': 'insufficient_quota'}}\"},\n",
       " 'image_7': {'file_path': '../Datasets/DermaMNIST/test/1/image_161.png',\n",
       "  'error': \"Error code: 429 - {'error': {'message': 'You exceeded your current quota, please check your plan and billing details. For more information on this error, read the docs: https://platform.openai.com/docs/guides/error-codes/api-errors.', 'type': 'insufficient_quota', 'param': None, 'code': 'insufficient_quota'}}\"},\n",
       " 'image_8': {'file_path': '../Datasets/DermaMNIST/test/1/image_1607.png',\n",
       "  'error': \"Error code: 429 - {'error': {'message': 'You exceeded your current quota, please check your plan and billing details. For more information on this error, read the docs: https://platform.openai.com/docs/guides/error-codes/api-errors.', 'type': 'insufficient_quota', 'param': None, 'code': 'insufficient_quota'}}\"},\n",
       " 'image_9': {'file_path': '../Datasets/DermaMNIST/test/0/image_1726.png',\n",
       "  'error': \"Error code: 429 - {'error': {'message': 'You exceeded your current quota, please check your plan and billing details. For more information on this error, read the docs: https://platform.openai.com/docs/guides/error-codes/api-errors.', 'type': 'insufficient_quota', 'param': None, 'code': 'insufficient_quota'}}\"},\n",
       " 'image_10': {'file_path': '../Datasets/DermaMNIST/test/5/image_873.png',\n",
       "  'error': \"Error code: 429 - {'error': {'message': 'You exceeded your current quota, please check your plan and billing details. For more information on this error, read the docs: https://platform.openai.com/docs/guides/error-codes/api-errors.', 'type': 'insufficient_quota', 'param': None, 'code': 'insufficient_quota'}}\"}}"
      ]
     },
     "execution_count": 8,
     "metadata": {},
     "output_type": "execute_result"
    }
   ],
   "source": [
    "pred_classes_openai"
   ]
  },
  {
   "cell_type": "code",
   "execution_count": null,
   "metadata": {},
   "outputs": [],
   "source": [
    "# pred_classes_claude = generate_medical_diagnosis_parallel(image_paths, classes_of_interest, \"claude\", max_workers=2)"
   ]
  },
  {
   "cell_type": "code",
   "execution_count": 20,
   "metadata": {},
   "outputs": [],
   "source": [
    "# pred_claude = [item['predictedClass'] for item in list(pred_classes_claude.values())]\n",
    "# ground_claude = [dataset_classes_of_interest[item['file_path'].split(\"/\")[-2]] for item in list(pred_classes_claude.values())]"
   ]
  },
  {
   "cell_type": "code",
   "execution_count": 32,
   "metadata": {},
   "outputs": [],
   "source": [
    "pred_openai = [item['predictedClass'] for item in list(pred_classes_openai.values())]\n",
    "ground_openai = [dataset_classes_of_interest[item['file_path'].split(\"/\")[-2]] for item in list(pred_classes_openai.values())]"
   ]
  },
  {
   "cell_type": "code",
   "execution_count": 33,
   "metadata": {},
   "outputs": [
    {
     "name": "stdout",
     "output_type": "stream",
     "text": [
      "OpenAI Accuracy: 14\n"
     ]
    }
   ],
   "source": [
    "# print(f\"Claude Accuracy: {count_matches(ground_claude, pred_claude)}\")\n",
    "print(f\"OpenAI Accuracy: {count_matches(ground_openai, pred_openai)}\")"
   ]
  },
  {
   "cell_type": "markdown",
   "metadata": {},
   "source": [
    "#### Let us now use the feature descriptions"
   ]
  },
  {
   "cell_type": "code",
   "execution_count": 34,
   "metadata": {},
   "outputs": [
    {
     "name": "stdout",
     "output_type": "stream",
     "text": [
      "\n",
      "Processing 30 images with 2 workers\n"
     ]
    },
    {
     "data": {
      "application/vnd.jupyter.widget-view+json": {
       "model_id": "4300aad0a5bf49679b2a15f738306f05",
       "version_major": 2,
       "version_minor": 0
      },
      "text/plain": [
       "Processing Images:   0%|          | 0/30 [00:00<?, ?it/s]"
      ]
     },
     "metadata": {},
     "output_type": "display_data"
    },
    {
     "name": "stdout",
     "output_type": "stream",
     "text": [
      "\n",
      "Raw API response for Datasets/OctMNIST/test/2/797.png:\n",
      "\n",
      "Raw API response for Datasets/OctMNIST/test/0/117.png:\n",
      "\n",
      "Raw API response for Datasets/OctMNIST/test/3/948.png:\n",
      "\n",
      "Attempt 1 failed for Datasets/OctMNIST/test/3/948.png:\n",
      "Error: the JSON object must be str, bytes or bytearray, not NoneType\n",
      "\n",
      "Raw API response for Datasets/OctMNIST/test/0/548.png:\n",
      "\n",
      "Raw API response for Datasets/OctMNIST/test/1/244.png:\n",
      "\n",
      "Attempt 1 failed for Datasets/OctMNIST/test/1/244.png:\n",
      "Error: the JSON object must be str, bytes or bytearray, not NoneType\n",
      "\n",
      "Raw API response for Datasets/OctMNIST/test/3/948.png:\n",
      "\n",
      "Raw API response for Datasets/OctMNIST/test/1/244.png:\n",
      "\n",
      "Raw API response for Datasets/OctMNIST/test/1/57.png:\n",
      "\n",
      "Raw API response for Datasets/OctMNIST/test/0/833.png:\n",
      "\n",
      "Attempt 1 failed for Datasets/OctMNIST/test/0/833.png:\n",
      "Error: the JSON object must be str, bytes or bytearray, not NoneType\n",
      "\n",
      "Raw API response for Datasets/OctMNIST/test/0/302.png:\n",
      "\n",
      "Raw API response for Datasets/OctMNIST/test/0/833.png:\n",
      "\n",
      "Raw API response for Datasets/OctMNIST/test/3/82.png:\n",
      "\n",
      "Raw API response for Datasets/OctMNIST/test/0/857.png:\n",
      "\n",
      "Attempt 1 failed for Datasets/OctMNIST/test/0/857.png:\n",
      "Error: the JSON object must be str, bytes or bytearray, not NoneType\n",
      "\n",
      "Raw API response for Datasets/OctMNIST/test/2/158.png:\n",
      "\n",
      "Raw API response for Datasets/OctMNIST/test/0/857.png:\n",
      "\n",
      "Raw API response for Datasets/OctMNIST/test/3/534.png:\n",
      "\n",
      "Raw API response for Datasets/OctMNIST/test/0/587.png:\n",
      "\n",
      "Raw API response for Datasets/OctMNIST/test/2/135.png:\n",
      "\n",
      "Raw API response for Datasets/OctMNIST/test/2/274.png:\n",
      "\n",
      "Raw API response for Datasets/OctMNIST/test/1/182.png:\n",
      "\n",
      "Raw API response for Datasets/OctMNIST/test/3/558.png:\n",
      "\n",
      "Attempt 1 failed for Datasets/OctMNIST/test/3/558.png:\n",
      "Error: the JSON object must be str, bytes or bytearray, not NoneType\n",
      "\n",
      "Raw API response for Datasets/OctMNIST/test/0/885.png:\n",
      "\n",
      "Raw API response for Datasets/OctMNIST/test/3/558.png:\n",
      "\n",
      "Raw API response for Datasets/OctMNIST/test/3/822.png:\n",
      "\n",
      "Raw API response for Datasets/OctMNIST/test/0/507.png:\n",
      "\n",
      "Raw API response for Datasets/OctMNIST/test/3/560.png:\n",
      "\n",
      "Raw API response for Datasets/OctMNIST/test/2/464.png:\n",
      "\n",
      "Raw API response for Datasets/OctMNIST/test/2/49.png:\n",
      "\n",
      "Raw API response for Datasets/OctMNIST/test/2/187.png:\n",
      "\n",
      "Raw API response for Datasets/OctMNIST/test/3/73.png:\n",
      "\n",
      "Raw API response for Datasets/OctMNIST/test/0/564.png:\n",
      "\n",
      "Raw API response for Datasets/OctMNIST/test/2/684.png:\n",
      "\n",
      "Attempt 1 failed for Datasets/OctMNIST/test/2/684.png:\n",
      "Error: the JSON object must be str, bytes or bytearray, not NoneType\n",
      "\n",
      "Raw API response for Datasets/OctMNIST/test/1/108.png:\n",
      "\n",
      "Raw API response for Datasets/OctMNIST/test/2/684.png:\n",
      "\n",
      "Raw API response for Datasets/OctMNIST/test/1/700.png:\n",
      "\n",
      "Raw API response for Datasets/OctMNIST/test/1/470.png:\n"
     ]
    }
   ],
   "source": [
    "openai_feat_pred = generate_feature_descriptions_batch(image_paths, classes_of_interest, \"openai\", max_workers=2)"
   ]
  },
  {
   "cell_type": "code",
   "execution_count": null,
   "metadata": {},
   "outputs": [],
   "source": [
    "# claude_feat_pred = generate_feature_descriptions_batch(image_paths, classes_of_interest, \"claude\", max_workers=2)"
   ]
  },
  {
   "cell_type": "code",
   "execution_count": 25,
   "metadata": {},
   "outputs": [],
   "source": [
    "# claude_result_list, claude_item_list = get_class_descriptions_and_item_details(list(claude_feat_pred.values()))"
   ]
  },
  {
   "cell_type": "code",
   "execution_count": 40,
   "metadata": {},
   "outputs": [],
   "source": [
    "def get_class_descriptions_and_item_details(result_list, number_of_classes):    \n",
    "    second_result_list = []\n",
    "    item_name_list = []\n",
    "    for item in result_list:\n",
    "\n",
    "        sec_res = {}\n",
    "        for i in range(number_of_classes):\n",
    "            sec_res[f'Class {i}'] = item[f'Class {i}']\n",
    "\n",
    "        img_desc = {\n",
    "            'Feature Description': item['Feature Description'],\n",
    "            'Image Path': item['Image Path']\n",
    "        }\n",
    "\n",
    "        second_result_list.append(sec_res)\n",
    "        item_name_list.append(img_desc)\n",
    "\n",
    "    return second_result_list, item_name_list"
   ]
  },
  {
   "cell_type": "code",
   "execution_count": 38,
   "metadata": {},
   "outputs": [],
   "source": [
    "openai_result_list, openai_item_list = get_class_descriptions_and_item_details(list(openai_feat_pred.values()))"
   ]
  },
  {
   "cell_type": "code",
   "execution_count": 27,
   "metadata": {},
   "outputs": [
    {
     "data": {
      "application/vnd.jupyter.widget-view+json": {
       "model_id": "ed5b1ec61f554ab2a63e92d2bb3a10c9",
       "version_major": 2,
       "version_minor": 0
      },
      "text/plain": [
       "Processing Batches:   0%|          | 0/12 [00:00<?, ?it/s]"
      ]
     },
     "metadata": {},
     "output_type": "display_data"
    },
    {
     "name": "stdout",
     "output_type": "stream",
     "text": [
      "\n",
      "Prediction Summary:\n",
      "Total items processed: 30\n",
      "Number of batches: 6\n",
      "Claude successful predictions: 25\n",
      "OpenAI successful predictions: 30\n"
     ]
    }
   ],
   "source": [
    "# correct_class_paths_claude_output, claude_pred_class_paths_claude_output, openai_pred_class_paths_claude_output  = get_class_prediction_result_batched(claude_result_list, claude_item_list, max_workers=2)\n",
    "# openai_pred_class_paths_claude_output = [item.split(\" \")[1] if \" \" in item else item for item in openai_pred_class_paths_claude_output]"
   ]
  },
  {
   "cell_type": "code",
   "execution_count": 39,
   "metadata": {},
   "outputs": [
    {
     "data": {
      "application/vnd.jupyter.widget-view+json": {
       "model_id": "a4207b687a2047a1a1500146c4f50c68",
       "version_major": 2,
       "version_minor": 0
      },
      "text/plain": [
       "Processing Batches:   0%|          | 0/12 [00:00<?, ?it/s]"
      ]
     },
     "metadata": {},
     "output_type": "display_data"
    },
    {
     "name": "stdout",
     "output_type": "stream",
     "text": [
      "\n",
      "Prediction Summary:\n",
      "Total items processed: 30\n",
      "Number of batches: 6\n",
      "Claude successful predictions: 10\n",
      "OpenAI successful predictions: 30\n"
     ]
    }
   ],
   "source": [
    "correct_class_paths_openai_output, claude_pred_class_paths_openai_output, openai_pred_class_paths_openai_output  = get_class_prediction_result_batched(openai_result_list, openai_item_list, max_workers=2)\n",
    "openai_pred_class_paths_openai_output = [item.split(\" \")[1] if \" \" in item else item for item in openai_pred_class_paths_openai_output]"
   ]
  },
  {
   "cell_type": "markdown",
   "metadata": {},
   "source": [
    "#### Result from Feature Comparison"
   ]
  },
  {
   "cell_type": "code",
   "execution_count": 29,
   "metadata": {},
   "outputs": [
    {
     "name": "stdout",
     "output_type": "stream",
     "text": [
      "Claude result using Claude for Feature Comparison: 3\n",
      "Claude result using openai for Feature Comparison: 5\n"
     ]
    }
   ],
   "source": [
    "# print(f\"Claude result using Claude for Feature Comparison: {count_matches(correct_class_paths_claude_output, claude_pred_class_paths_claude_output)}\")\n",
    "# print(f\"Claude result using openai for Feature Comparison: {count_matches(correct_class_paths_claude_output, openai_pred_class_paths_claude_output)}\")"
   ]
  },
  {
   "cell_type": "code",
   "execution_count": 41,
   "metadata": {},
   "outputs": [
    {
     "name": "stdout",
     "output_type": "stream",
     "text": [
      "OpenAI result using openai for Feature Comparison: 6\n",
      "OpenAI result using Claude for Feature Comparison: 2\n"
     ]
    }
   ],
   "source": [
    "print(f\"OpenAI result using openai for Feature Comparison: {count_matches(correct_class_paths_openai_output, openai_pred_class_paths_openai_output)}\")\n",
    "print(f\"OpenAI result using Claude for Feature Comparison: {count_matches(correct_class_paths_openai_output, claude_pred_class_paths_openai_output)}\")"
   ]
  },
  {
   "cell_type": "code",
   "execution_count": null,
   "metadata": {},
   "outputs": [],
   "source": []
  }
 ],
 "metadata": {
  "kernelspec": {
   "display_name": "Python 3",
   "language": "python",
   "name": "python3"
  },
  "language_info": {
   "codemirror_mode": {
    "name": "ipython",
    "version": 3
   },
   "file_extension": ".py",
   "mimetype": "text/x-python",
   "name": "python",
   "nbconvert_exporter": "python",
   "pygments_lexer": "ipython3",
   "version": "3.10.11"
  }
 },
 "nbformat": 4,
 "nbformat_minor": 2
}
