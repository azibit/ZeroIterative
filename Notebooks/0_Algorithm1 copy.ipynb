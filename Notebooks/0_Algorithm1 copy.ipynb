{
 "cells": [
  {
   "cell_type": "markdown",
   "metadata": {},
   "source": [
    "#### This code serves to test Algorithm 1 for the Iterative Domain Information Framework"
   ]
  },
  {
   "cell_type": "code",
   "execution_count": 1,
   "metadata": {},
   "outputs": [],
   "source": [
    "import glob as glob\n",
    "import math, random\n",
    "import pandas as pd\n",
    "from DatasetNames import get_dataset_class_name\n",
    "from ExtraFunctions import *\n",
    "from MultiClassPrediction import MultiClassPrediction, MultiClassImageTask\n",
    "from SingleClassPrediction import SingleClassPrediction"
   ]
  },
  {
   "cell_type": "code",
   "execution_count": 1,
   "metadata": {},
   "outputs": [
    {
     "ename": "NameError",
     "evalue": "name 'get_balanced_random_images' is not defined",
     "output_type": "error",
     "traceback": [
      "\u001b[1;31m---------------------------------------------------------------------------\u001b[0m",
      "\u001b[1;31mNameError\u001b[0m                                 Traceback (most recent call last)",
      "Cell \u001b[1;32mIn[1], line 5\u001b[0m\n\u001b[0;32m      2\u001b[0m NUMBER_OF_IMAGES \u001b[38;5;241m=\u001b[39m \u001b[38;5;241m100\u001b[39m \u001b[38;5;66;03m# Total number of images to be used\u001b[39;00m\n\u001b[0;32m      4\u001b[0m source_directory \u001b[38;5;241m=\u001b[39m \u001b[38;5;124mf\u001b[39m\u001b[38;5;124m\"\u001b[39m\u001b[38;5;124m../Datasets/\u001b[39m\u001b[38;5;132;01m{\u001b[39;00mDATASET_NAME\u001b[38;5;132;01m}\u001b[39;00m\u001b[38;5;124m/test\u001b[39m\u001b[38;5;124m\"\u001b[39m  \u001b[38;5;66;03m# Change this to your test directory path\u001b[39;00m\n\u001b[1;32m----> 5\u001b[0m _, image_paths \u001b[38;5;241m=\u001b[39m \u001b[43mget_balanced_random_images\u001b[49m(source_directory, n \u001b[38;5;241m=\u001b[39m NUMBER_OF_IMAGES)\n\u001b[0;32m      7\u001b[0m random\u001b[38;5;241m.\u001b[39mseed(\u001b[38;5;241m55\u001b[39m)\n\u001b[0;32m      8\u001b[0m random\u001b[38;5;241m.\u001b[39mshuffle(image_paths)\n",
      "\u001b[1;31mNameError\u001b[0m: name 'get_balanced_random_images' is not defined"
     ]
    }
   ],
   "source": [
    "DATASET_NAME = \"OrganCMNIST\"\n",
    "NUMBER_OF_IMAGES = 100 # Total number of images to be used\n",
    "\n",
    "source_directory = f\"../Datasets/{DATASET_NAME}/test\"  # Change this to your test directory path\n",
    "_, image_paths = get_balanced_random_images(source_directory, n = NUMBER_OF_IMAGES)\n",
    "\n",
    "random.seed(55)\n",
    "random.shuffle(image_paths)\n",
    "initial_image_paths = image_paths.copy()\n",
    "\n",
    "dataset_classes_of_interest = get_dataset_class_name(DATASET_NAME)\n",
    "init_classes_of_interest = list(dataset_classes_of_interest.values())\n",
    "\n",
    "classes_of_interest_list = [init_classes_of_interest] * len(image_paths)"
   ]
  },
  {
   "cell_type": "markdown",
   "metadata": {},
   "source": [
    "#### Playground"
   ]
  },
  {
   "cell_type": "code",
   "execution_count": 3,
   "metadata": {},
   "outputs": [],
   "source": [
    "number_of_experiment = 1\n",
    "\n",
    "model_list = [\n",
    "    {\n",
    "        \"model_name\": \"gpt-4o\",\n",
    "        \"model_type\": \"openai\",\n",
    "    },\n",
    "    {\n",
    "        \"model_name\": \"gpt-4o-mini\",\n",
    "        \"model_type\": \"openai\",\n",
    "    },\n",
    "    # {\n",
    "    #     \"model_name\": \"claude-3-5-sonnet-20241022\",\n",
    "    #     \"model_type\": \"claude\",\n",
    "    # }\n",
    "]"
   ]
  },
  {
   "cell_type": "code",
   "execution_count": null,
   "metadata": {},
   "outputs": [
    {
     "name": "stdout",
     "output_type": "stream",
     "text": [
      "Experiment 1/1\n",
      "Model: gpt-4o\n",
      "Model Type: openai\n"
     ]
    },
    {
     "name": "stderr",
     "output_type": "stream",
     "text": [
      "WARNING:root:OpenAI API error: Error code: 400 - {'error': {'message': \"You uploaded an unsupported image. Please make sure your image has of one the following formats: ['png', 'jpeg', 'gif', 'webp'].\", 'type': 'invalid_request_error', 'param': None, 'code': 'invalid_image_format'}}. Retrying in 0.92 seconds... (Attempt 1/3)\n",
      "WARNING:root:OpenAI API error: Error code: 400 - {'error': {'message': \"You uploaded an unsupported image. Please make sure your image has of one the following formats: ['png', 'jpeg', 'gif', 'webp'].\", 'type': 'invalid_request_error', 'param': None, 'code': 'invalid_image_format'}}. Retrying in 0.90 seconds... (Attempt 1/3)\n",
      "WARNING:root:OpenAI API error: Error code: 400 - {'error': {'message': \"You uploaded an unsupported image. Please make sure your image has of one the following formats: ['png', 'jpeg', 'gif', 'webp'].\", 'type': 'invalid_request_error', 'param': None, 'code': 'invalid_image_format'}}. Retrying in 2.17 seconds... (Attempt 2/3)\n",
      "WARNING:root:OpenAI API error: Error code: 400 - {'error': {'message': \"You uploaded an unsupported image. Please make sure your image has of one the following formats: ['png', 'jpeg', 'gif', 'webp'].\", 'type': 'invalid_request_error', 'param': None, 'code': 'invalid_image_format'}}. Retrying in 1.92 seconds... (Attempt 2/3)\n",
      "WARNING:root:OpenAI API error: Error code: 400 - {'error': {'message': \"You uploaded an unsupported image. Please make sure your image has of one the following formats: ['png', 'jpeg', 'gif', 'webp'].\", 'type': 'invalid_request_error', 'param': None, 'code': 'invalid_image_format'}}. Retrying in 4.24 seconds... (Attempt 3/3)\n",
      "WARNING:root:OpenAI API error: Error code: 400 - {'error': {'message': \"You uploaded an unsupported image. Please make sure your image has of one the following formats: ['png', 'jpeg', 'gif', 'webp'].\", 'type': 'invalid_request_error', 'param': None, 'code': 'invalid_image_format'}}. Retrying in 4.24 seconds... (Attempt 3/3)\n",
      "ERROR:root:Max retries (3) exceeded: Error code: 400 - {'error': {'message': \"You uploaded an unsupported image. Please make sure your image has of one the following formats: ['png', 'jpeg', 'gif', 'webp'].\", 'type': 'invalid_request_error', 'param': None, 'code': 'invalid_image_format'}}\n",
      "WARNING:root:OpenAI API error: Error code: 400 - {'error': {'message': \"You uploaded an unsupported image. Please make sure your image has of one the following formats: ['png', 'jpeg', 'gif', 'webp'].\", 'type': 'invalid_request_error', 'param': None, 'code': 'invalid_image_format'}}. Retrying in 1.00 seconds... (Attempt 1/3)\n"
     ]
    },
    {
     "name": "stdout",
     "output_type": "stream",
     "text": [
      "Batch processing failed: Error code: 400 - {'error': {'message': \"You uploaded an unsupported image. Please make sure your image has of one the following formats: ['png', 'jpeg', 'gif', 'webp'].\", 'type': 'invalid_request_error', 'param': None, 'code': 'invalid_image_format'}}\n",
      "Failed batch: ['../Datasets/OrganCMNIST/test\\\\7\\\\image_6070.png']\n"
     ]
    },
    {
     "name": "stderr",
     "output_type": "stream",
     "text": [
      "ERROR:root:Max retries (3) exceeded: Error code: 400 - {'error': {'message': \"You uploaded an unsupported image. Please make sure your image has of one the following formats: ['png', 'jpeg', 'gif', 'webp'].\", 'type': 'invalid_request_error', 'param': None, 'code': 'invalid_image_format'}}\n"
     ]
    },
    {
     "name": "stdout",
     "output_type": "stream",
     "text": [
      "Batch processing failed: Error code: 400 - {'error': {'message': \"You uploaded an unsupported image. Please make sure your image has of one the following formats: ['png', 'jpeg', 'gif', 'webp'].\", 'type': 'invalid_request_error', 'param': None, 'code': 'invalid_image_format'}}\n",
      "Failed batch: ['../Datasets/OrganCMNIST/test\\\\5\\\\image_1414.png']\n"
     ]
    },
    {
     "name": "stderr",
     "output_type": "stream",
     "text": [
      "WARNING:root:OpenAI API error: Error code: 400 - {'error': {'message': \"You uploaded an unsupported image. Please make sure your image has of one the following formats: ['png', 'jpeg', 'gif', 'webp'].\", 'type': 'invalid_request_error', 'param': None, 'code': 'invalid_image_format'}}. Retrying in 0.95 seconds... (Attempt 1/3)\n",
      "WARNING:root:OpenAI API error: Error code: 400 - {'error': {'message': \"You uploaded an unsupported image. Please make sure your image has of one the following formats: ['png', 'jpeg', 'gif', 'webp'].\", 'type': 'invalid_request_error', 'param': None, 'code': 'invalid_image_format'}}. Retrying in 2.16 seconds... (Attempt 2/3)\n",
      "WARNING:root:OpenAI API error: Error code: 400 - {'error': {'message': \"You uploaded an unsupported image. Please make sure your image has of one the following formats: ['png', 'jpeg', 'gif', 'webp'].\", 'type': 'invalid_request_error', 'param': None, 'code': 'invalid_image_format'}}. Retrying in 2.17 seconds... (Attempt 2/3)\n",
      "WARNING:root:OpenAI API error: Error code: 400 - {'error': {'message': \"You uploaded an unsupported image. Please make sure your image has of one the following formats: ['png', 'jpeg', 'gif', 'webp'].\", 'type': 'invalid_request_error', 'param': None, 'code': 'invalid_image_format'}}. Retrying in 3.77 seconds... (Attempt 3/3)\n",
      "WARNING:root:OpenAI API error: Error code: 400 - {'error': {'message': \"You uploaded an unsupported image. Please make sure your image has of one the following formats: ['png', 'jpeg', 'gif', 'webp'].\", 'type': 'invalid_request_error', 'param': None, 'code': 'invalid_image_format'}}. Retrying in 4.06 seconds... (Attempt 3/3)\n",
      "ERROR:root:Max retries (3) exceeded: Error code: 400 - {'error': {'message': \"You uploaded an unsupported image. Please make sure your image has of one the following formats: ['png', 'jpeg', 'gif', 'webp'].\", 'type': 'invalid_request_error', 'param': None, 'code': 'invalid_image_format'}}\n",
      "WARNING:root:OpenAI API error: Error code: 400 - {'error': {'message': \"You uploaded an unsupported image. Please make sure your image has of one the following formats: ['png', 'jpeg', 'gif', 'webp'].\", 'type': 'invalid_request_error', 'param': None, 'code': 'invalid_image_format'}}. Retrying in 0.97 seconds... (Attempt 1/3)\n"
     ]
    },
    {
     "name": "stdout",
     "output_type": "stream",
     "text": [
      "Batch processing failed: Error code: 400 - {'error': {'message': \"You uploaded an unsupported image. Please make sure your image has of one the following formats: ['png', 'jpeg', 'gif', 'webp'].\", 'type': 'invalid_request_error', 'param': None, 'code': 'invalid_image_format'}}\n",
      "Failed batch: ['../Datasets/OrganCMNIST/test\\\\8\\\\image_4241.png']\n"
     ]
    },
    {
     "name": "stderr",
     "output_type": "stream",
     "text": [
      "ERROR:root:Max retries (3) exceeded: Error code: 400 - {'error': {'message': \"You uploaded an unsupported image. Please make sure your image has of one the following formats: ['png', 'jpeg', 'gif', 'webp'].\", 'type': 'invalid_request_error', 'param': None, 'code': 'invalid_image_format'}}\n",
      "WARNING:root:OpenAI API error: Error code: 400 - {'error': {'message': \"You uploaded an unsupported image. Please make sure your image has of one the following formats: ['png', 'jpeg', 'gif', 'webp'].\", 'type': 'invalid_request_error', 'param': None, 'code': 'invalid_image_format'}}. Retrying in 1.01 seconds... (Attempt 1/3)\n"
     ]
    },
    {
     "name": "stdout",
     "output_type": "stream",
     "text": [
      "Batch processing failed: Error code: 400 - {'error': {'message': \"You uploaded an unsupported image. Please make sure your image has of one the following formats: ['png', 'jpeg', 'gif', 'webp'].\", 'type': 'invalid_request_error', 'param': None, 'code': 'invalid_image_format'}}\n",
      "Failed batch: ['../Datasets/OrganCMNIST/test\\\\4\\\\image_1983.png']\n"
     ]
    },
    {
     "name": "stderr",
     "output_type": "stream",
     "text": [
      "WARNING:root:OpenAI API error: Error code: 400 - {'error': {'message': \"You uploaded an unsupported image. Please make sure your image has of one the following formats: ['png', 'jpeg', 'gif', 'webp'].\", 'type': 'invalid_request_error', 'param': None, 'code': 'invalid_image_format'}}. Retrying in 1.84 seconds... (Attempt 2/3)\n",
      "WARNING:root:OpenAI API error: Error code: 400 - {'error': {'message': \"You uploaded an unsupported image. Please make sure your image has of one the following formats: ['png', 'jpeg', 'gif', 'webp'].\", 'type': 'invalid_request_error', 'param': None, 'code': 'invalid_image_format'}}. Retrying in 2.12 seconds... (Attempt 2/3)\n",
      "WARNING:root:OpenAI API error: Error code: 400 - {'error': {'message': \"You uploaded an unsupported image. Please make sure your image has of one the following formats: ['png', 'jpeg', 'gif', 'webp'].\", 'type': 'invalid_request_error', 'param': None, 'code': 'invalid_image_format'}}. Retrying in 3.79 seconds... (Attempt 3/3)\n",
      "WARNING:root:OpenAI API error: Error code: 400 - {'error': {'message': \"You uploaded an unsupported image. Please make sure your image has of one the following formats: ['png', 'jpeg', 'gif', 'webp'].\", 'type': 'invalid_request_error', 'param': None, 'code': 'invalid_image_format'}}. Retrying in 4.36 seconds... (Attempt 3/3)\n",
      "ERROR:root:Max retries (3) exceeded: Error code: 400 - {'error': {'message': \"You uploaded an unsupported image. Please make sure your image has of one the following formats: ['png', 'jpeg', 'gif', 'webp'].\", 'type': 'invalid_request_error', 'param': None, 'code': 'invalid_image_format'}}\n"
     ]
    },
    {
     "name": "stdout",
     "output_type": "stream",
     "text": [
      "Batch processing failed: Error code: 400 - {'error': {'message': \"You uploaded an unsupported image. Please make sure your image has of one the following formats: ['png', 'jpeg', 'gif', 'webp'].\", 'type': 'invalid_request_error', 'param': None, 'code': 'invalid_image_format'}}\n",
      "Failed batch: ['../Datasets/OrganCMNIST/test\\\\0\\\\image_787.png']\n"
     ]
    },
    {
     "name": "stderr",
     "output_type": "stream",
     "text": [
      "WARNING:root:OpenAI API error: Error code: 400 - {'error': {'message': \"You uploaded an unsupported image. Please make sure your image has of one the following formats: ['png', 'jpeg', 'gif', 'webp'].\", 'type': 'invalid_request_error', 'param': None, 'code': 'invalid_image_format'}}. Retrying in 1.06 seconds... (Attempt 1/3)\n",
      "ERROR:root:Max retries (3) exceeded: Error code: 400 - {'error': {'message': \"You uploaded an unsupported image. Please make sure your image has of one the following formats: ['png', 'jpeg', 'gif', 'webp'].\", 'type': 'invalid_request_error', 'param': None, 'code': 'invalid_image_format'}}\n"
     ]
    },
    {
     "name": "stdout",
     "output_type": "stream",
     "text": [
      "Batch processing failed: Error code: 400 - {'error': {'message': \"You uploaded an unsupported image. Please make sure your image has of one the following formats: ['png', 'jpeg', 'gif', 'webp'].\", 'type': 'invalid_request_error', 'param': None, 'code': 'invalid_image_format'}}\n",
      "Failed batch: ['../Datasets/OrganCMNIST/test\\\\3\\\\image_2365.png']\n"
     ]
    },
    {
     "name": "stderr",
     "output_type": "stream",
     "text": [
      "WARNING:root:OpenAI API error: Error code: 400 - {'error': {'message': \"You uploaded an unsupported image. Please make sure your image has of one the following formats: ['png', 'jpeg', 'gif', 'webp'].\", 'type': 'invalid_request_error', 'param': None, 'code': 'invalid_image_format'}}. Retrying in 1.07 seconds... (Attempt 1/3)\n",
      "WARNING:root:OpenAI API error: Error code: 400 - {'error': {'message': \"You uploaded an unsupported image. Please make sure your image has of one the following formats: ['png', 'jpeg', 'gif', 'webp'].\", 'type': 'invalid_request_error', 'param': None, 'code': 'invalid_image_format'}}. Retrying in 1.93 seconds... (Attempt 2/3)\n",
      "WARNING:root:OpenAI API error: Error code: 400 - {'error': {'message': \"You uploaded an unsupported image. Please make sure your image has of one the following formats: ['png', 'jpeg', 'gif', 'webp'].\", 'type': 'invalid_request_error', 'param': None, 'code': 'invalid_image_format'}}. Retrying in 1.96 seconds... (Attempt 2/3)\n",
      "WARNING:root:OpenAI API error: Error code: 400 - {'error': {'message': \"You uploaded an unsupported image. Please make sure your image has of one the following formats: ['png', 'jpeg', 'gif', 'webp'].\", 'type': 'invalid_request_error', 'param': None, 'code': 'invalid_image_format'}}. Retrying in 3.98 seconds... (Attempt 3/3)\n",
      "WARNING:root:OpenAI API error: Error code: 400 - {'error': {'message': \"You uploaded an unsupported image. Please make sure your image has of one the following formats: ['png', 'jpeg', 'gif', 'webp'].\", 'type': 'invalid_request_error', 'param': None, 'code': 'invalid_image_format'}}. Retrying in 3.82 seconds... (Attempt 3/3)\n",
      "ERROR:root:Max retries (3) exceeded: Error code: 400 - {'error': {'message': \"You uploaded an unsupported image. Please make sure your image has of one the following formats: ['png', 'jpeg', 'gif', 'webp'].\", 'type': 'invalid_request_error', 'param': None, 'code': 'invalid_image_format'}}\n",
      "WARNING:root:OpenAI API error: Error code: 400 - {'error': {'message': \"You uploaded an unsupported image. Please make sure your image has of one the following formats: ['png', 'jpeg', 'gif', 'webp'].\", 'type': 'invalid_request_error', 'param': None, 'code': 'invalid_image_format'}}. Retrying in 1.08 seconds... (Attempt 1/3)\n"
     ]
    },
    {
     "name": "stdout",
     "output_type": "stream",
     "text": [
      "Batch processing failed: Error code: 400 - {'error': {'message': \"You uploaded an unsupported image. Please make sure your image has of one the following formats: ['png', 'jpeg', 'gif', 'webp'].\", 'type': 'invalid_request_error', 'param': None, 'code': 'invalid_image_format'}}\n",
      "Failed batch: ['../Datasets/OrganCMNIST/test\\\\1\\\\image_1285.png']\n"
     ]
    },
    {
     "name": "stderr",
     "output_type": "stream",
     "text": [
      "ERROR:root:Max retries (3) exceeded: Error code: 400 - {'error': {'message': \"You uploaded an unsupported image. Please make sure your image has of one the following formats: ['png', 'jpeg', 'gif', 'webp'].\", 'type': 'invalid_request_error', 'param': None, 'code': 'invalid_image_format'}}\n",
      "WARNING:root:OpenAI API error: Error code: 400 - {'error': {'message': \"You uploaded an unsupported image. Please make sure your image has of one the following formats: ['png', 'jpeg', 'gif', 'webp'].\", 'type': 'invalid_request_error', 'param': None, 'code': 'invalid_image_format'}}. Retrying in 1.06 seconds... (Attempt 1/3)\n"
     ]
    },
    {
     "name": "stdout",
     "output_type": "stream",
     "text": [
      "Batch processing failed: Error code: 400 - {'error': {'message': \"You uploaded an unsupported image. Please make sure your image has of one the following formats: ['png', 'jpeg', 'gif', 'webp'].\", 'type': 'invalid_request_error', 'param': None, 'code': 'invalid_image_format'}}\n",
      "Failed batch: ['../Datasets/OrganCMNIST/test\\\\4\\\\image_1997.png']\n"
     ]
    },
    {
     "name": "stderr",
     "output_type": "stream",
     "text": [
      "WARNING:root:OpenAI API error: Error code: 400 - {'error': {'message': \"You uploaded an unsupported image. Please make sure your image has of one the following formats: ['png', 'jpeg', 'gif', 'webp'].\", 'type': 'invalid_request_error', 'param': None, 'code': 'invalid_image_format'}}. Retrying in 1.81 seconds... (Attempt 2/3)\n",
      "WARNING:root:OpenAI API error: Error code: 400 - {'error': {'message': \"You uploaded an unsupported image. Please make sure your image has of one the following formats: ['png', 'jpeg', 'gif', 'webp'].\", 'type': 'invalid_request_error', 'param': None, 'code': 'invalid_image_format'}}. Retrying in 1.88 seconds... (Attempt 2/3)\n",
      "WARNING:root:OpenAI API error: Error code: 400 - {'error': {'message': \"You uploaded an unsupported image. Please make sure your image has of one the following formats: ['png', 'jpeg', 'gif', 'webp'].\", 'type': 'invalid_request_error', 'param': None, 'code': 'invalid_image_format'}}. Retrying in 4.36 seconds... (Attempt 3/3)\n",
      "WARNING:root:OpenAI API error: Error code: 400 - {'error': {'message': \"You uploaded an unsupported image. Please make sure your image has of one the following formats: ['png', 'jpeg', 'gif', 'webp'].\", 'type': 'invalid_request_error', 'param': None, 'code': 'invalid_image_format'}}. Retrying in 3.84 seconds... (Attempt 3/3)\n",
      "ERROR:root:Max retries (3) exceeded: Error code: 400 - {'error': {'message': \"You uploaded an unsupported image. Please make sure your image has of one the following formats: ['png', 'jpeg', 'gif', 'webp'].\", 'type': 'invalid_request_error', 'param': None, 'code': 'invalid_image_format'}}\n",
      "WARNING:root:OpenAI API error: Error code: 400 - {'error': {'message': \"You uploaded an unsupported image. Please make sure your image has of one the following formats: ['png', 'jpeg', 'gif', 'webp'].\", 'type': 'invalid_request_error', 'param': None, 'code': 'invalid_image_format'}}. Retrying in 0.97 seconds... (Attempt 1/3)\n"
     ]
    },
    {
     "name": "stdout",
     "output_type": "stream",
     "text": [
      "Batch processing failed: Error code: 400 - {'error': {'message': \"You uploaded an unsupported image. Please make sure your image has of one the following formats: ['png', 'jpeg', 'gif', 'webp'].\", 'type': 'invalid_request_error', 'param': None, 'code': 'invalid_image_format'}}\n",
      "Failed batch: ['../Datasets/OrganCMNIST/test\\\\7\\\\image_221.png']\n"
     ]
    },
    {
     "name": "stderr",
     "output_type": "stream",
     "text": [
      "ERROR:root:Max retries (3) exceeded: Error code: 400 - {'error': {'message': \"You uploaded an unsupported image. Please make sure your image has of one the following formats: ['png', 'jpeg', 'gif', 'webp'].\", 'type': 'invalid_request_error', 'param': None, 'code': 'invalid_image_format'}}\n"
     ]
    },
    {
     "name": "stdout",
     "output_type": "stream",
     "text": [
      "Batch processing failed: Error code: 400 - {'error': {'message': \"You uploaded an unsupported image. Please make sure your image has of one the following formats: ['png', 'jpeg', 'gif', 'webp'].\", 'type': 'invalid_request_error', 'param': None, 'code': 'invalid_image_format'}}\n",
      "Failed batch: ['../Datasets/OrganCMNIST/test\\\\2\\\\image_105.png']\n"
     ]
    },
    {
     "name": "stderr",
     "output_type": "stream",
     "text": [
      "WARNING:root:OpenAI API error: Error code: 400 - {'error': {'message': \"You uploaded an unsupported image. Please make sure your image has of one the following formats: ['png', 'jpeg', 'gif', 'webp'].\", 'type': 'invalid_request_error', 'param': None, 'code': 'invalid_image_format'}}. Retrying in 1.02 seconds... (Attempt 1/3)\n",
      "WARNING:root:OpenAI API error: Error code: 400 - {'error': {'message': \"You uploaded an unsupported image. Please make sure your image has of one the following formats: ['png', 'jpeg', 'gif', 'webp'].\", 'type': 'invalid_request_error', 'param': None, 'code': 'invalid_image_format'}}. Retrying in 2.13 seconds... (Attempt 2/3)\n",
      "WARNING:root:OpenAI API error: Error code: 400 - {'error': {'message': \"You uploaded an unsupported image. Please make sure your image has of one the following formats: ['png', 'jpeg', 'gif', 'webp'].\", 'type': 'invalid_request_error', 'param': None, 'code': 'invalid_image_format'}}. Retrying in 2.12 seconds... (Attempt 2/3)\n",
      "WARNING:root:OpenAI API error: Error code: 400 - {'error': {'message': \"You uploaded an unsupported image. Please make sure your image has of one the following formats: ['png', 'jpeg', 'gif', 'webp'].\", 'type': 'invalid_request_error', 'param': None, 'code': 'invalid_image_format'}}. Retrying in 3.79 seconds... (Attempt 3/3)\n",
      "WARNING:root:OpenAI API error: Error code: 400 - {'error': {'message': \"You uploaded an unsupported image. Please make sure your image has of one the following formats: ['png', 'jpeg', 'gif', 'webp'].\", 'type': 'invalid_request_error', 'param': None, 'code': 'invalid_image_format'}}. Retrying in 3.82 seconds... (Attempt 3/3)\n",
      "ERROR:root:Max retries (3) exceeded: Error code: 400 - {'error': {'message': \"You uploaded an unsupported image. Please make sure your image has of one the following formats: ['png', 'jpeg', 'gif', 'webp'].\", 'type': 'invalid_request_error', 'param': None, 'code': 'invalid_image_format'}}\n"
     ]
    },
    {
     "name": "stdout",
     "output_type": "stream",
     "text": [
      "Batch processing failed: Error code: 400 - {'error': {'message': \"You uploaded an unsupported image. Please make sure your image has of one the following formats: ['png', 'jpeg', 'gif', 'webp'].\", 'type': 'invalid_request_error', 'param': None, 'code': 'invalid_image_format'}}\n",
      "Failed batch: ['../Datasets/OrganCMNIST/test\\\\1\\\\image_1868.png']\n"
     ]
    },
    {
     "name": "stderr",
     "output_type": "stream",
     "text": [
      "ERROR:root:Max retries (3) exceeded: Error code: 400 - {'error': {'message': \"You uploaded an unsupported image. Please make sure your image has of one the following formats: ['png', 'jpeg', 'gif', 'webp'].\", 'type': 'invalid_request_error', 'param': None, 'code': 'invalid_image_format'}}\n",
      "WARNING:root:OpenAI API error: Error code: 400 - {'error': {'message': \"You uploaded an unsupported image. Please make sure your image has of one the following formats: ['png', 'jpeg', 'gif', 'webp'].\", 'type': 'invalid_request_error', 'param': None, 'code': 'invalid_image_format'}}. Retrying in 0.98 seconds... (Attempt 1/3)\n"
     ]
    },
    {
     "name": "stdout",
     "output_type": "stream",
     "text": [
      "Batch processing failed: Error code: 400 - {'error': {'message': \"You uploaded an unsupported image. Please make sure your image has of one the following formats: ['png', 'jpeg', 'gif', 'webp'].\", 'type': 'invalid_request_error', 'param': None, 'code': 'invalid_image_format'}}\n",
      "Failed batch: ['../Datasets/OrganCMNIST/test\\\\1\\\\image_1315.png']\n"
     ]
    },
    {
     "name": "stderr",
     "output_type": "stream",
     "text": [
      "WARNING:root:OpenAI API error: Error code: 400 - {'error': {'message': \"You uploaded an unsupported image. Please make sure your image has of one the following formats: ['png', 'jpeg', 'gif', 'webp'].\", 'type': 'invalid_request_error', 'param': None, 'code': 'invalid_image_format'}}. Retrying in 0.96 seconds... (Attempt 1/3)\n",
      "WARNING:root:OpenAI API error: Error code: 400 - {'error': {'message': \"You uploaded an unsupported image. Please make sure your image has of one the following formats: ['png', 'jpeg', 'gif', 'webp'].\", 'type': 'invalid_request_error', 'param': None, 'code': 'invalid_image_format'}}. Retrying in 1.96 seconds... (Attempt 2/3)\n",
      "WARNING:root:OpenAI API error: Error code: 400 - {'error': {'message': \"You uploaded an unsupported image. Please make sure your image has of one the following formats: ['png', 'jpeg', 'gif', 'webp'].\", 'type': 'invalid_request_error', 'param': None, 'code': 'invalid_image_format'}}. Retrying in 1.92 seconds... (Attempt 2/3)\n",
      "WARNING:root:OpenAI API error: Error code: 400 - {'error': {'message': \"You uploaded an unsupported image. Please make sure your image has of one the following formats: ['png', 'jpeg', 'gif', 'webp'].\", 'type': 'invalid_request_error', 'param': None, 'code': 'invalid_image_format'}}. Retrying in 3.65 seconds... (Attempt 3/3)\n",
      "WARNING:root:OpenAI API error: Error code: 400 - {'error': {'message': \"You uploaded an unsupported image. Please make sure your image has of one the following formats: ['png', 'jpeg', 'gif', 'webp'].\", 'type': 'invalid_request_error', 'param': None, 'code': 'invalid_image_format'}}. Retrying in 4.35 seconds... (Attempt 3/3)\n",
      "ERROR:root:Max retries (3) exceeded: Error code: 400 - {'error': {'message': \"You uploaded an unsupported image. Please make sure your image has of one the following formats: ['png', 'jpeg', 'gif', 'webp'].\", 'type': 'invalid_request_error', 'param': None, 'code': 'invalid_image_format'}}\n"
     ]
    },
    {
     "name": "stdout",
     "output_type": "stream",
     "text": [
      "Batch processing failed: Error code: 400 - {'error': {'message': \"You uploaded an unsupported image. Please make sure your image has of one the following formats: ['png', 'jpeg', 'gif', 'webp'].\", 'type': 'invalid_request_error', 'param': None, 'code': 'invalid_image_format'}}\n",
      "Failed batch: ['../Datasets/OrganCMNIST/test\\\\2\\\\image_2885.png']\n"
     ]
    },
    {
     "name": "stderr",
     "output_type": "stream",
     "text": [
      "WARNING:root:OpenAI API error: Error code: 400 - {'error': {'message': \"You uploaded an unsupported image. Please make sure your image has of one the following formats: ['png', 'jpeg', 'gif', 'webp'].\", 'type': 'invalid_request_error', 'param': None, 'code': 'invalid_image_format'}}. Retrying in 0.96 seconds... (Attempt 1/3)\n",
      "ERROR:root:Max retries (3) exceeded: Error code: 400 - {'error': {'message': \"You uploaded an unsupported image. Please make sure your image has of one the following formats: ['png', 'jpeg', 'gif', 'webp'].\", 'type': 'invalid_request_error', 'param': None, 'code': 'invalid_image_format'}}\n",
      "WARNING:root:OpenAI API error: Error code: 400 - {'error': {'message': \"You uploaded an unsupported image. Please make sure your image has of one the following formats: ['png', 'jpeg', 'gif', 'webp'].\", 'type': 'invalid_request_error', 'param': None, 'code': 'invalid_image_format'}}. Retrying in 0.90 seconds... (Attempt 1/3)\n"
     ]
    },
    {
     "name": "stdout",
     "output_type": "stream",
     "text": [
      "Batch processing failed: Error code: 400 - {'error': {'message': \"You uploaded an unsupported image. Please make sure your image has of one the following formats: ['png', 'jpeg', 'gif', 'webp'].\", 'type': 'invalid_request_error', 'param': None, 'code': 'invalid_image_format'}}\n",
      "Failed batch: ['../Datasets/OrganCMNIST/test\\\\4\\\\image_4642.png']\n"
     ]
    },
    {
     "name": "stderr",
     "output_type": "stream",
     "text": [
      "WARNING:root:OpenAI API error: Error code: 400 - {'error': {'message': \"You uploaded an unsupported image. Please make sure your image has of one the following formats: ['png', 'jpeg', 'gif', 'webp'].\", 'type': 'invalid_request_error', 'param': None, 'code': 'invalid_image_format'}}. Retrying in 2.06 seconds... (Attempt 2/3)\n",
      "WARNING:root:OpenAI API error: Error code: 400 - {'error': {'message': \"You uploaded an unsupported image. Please make sure your image has of one the following formats: ['png', 'jpeg', 'gif', 'webp'].\", 'type': 'invalid_request_error', 'param': None, 'code': 'invalid_image_format'}}. Retrying in 1.83 seconds... (Attempt 2/3)\n",
      "WARNING:root:OpenAI API error: Error code: 400 - {'error': {'message': \"You uploaded an unsupported image. Please make sure your image has of one the following formats: ['png', 'jpeg', 'gif', 'webp'].\", 'type': 'invalid_request_error', 'param': None, 'code': 'invalid_image_format'}}. Retrying in 3.96 seconds... (Attempt 3/3)\n",
      "WARNING:root:OpenAI API error: Error code: 400 - {'error': {'message': \"You uploaded an unsupported image. Please make sure your image has of one the following formats: ['png', 'jpeg', 'gif', 'webp'].\", 'type': 'invalid_request_error', 'param': None, 'code': 'invalid_image_format'}}. Retrying in 4.21 seconds... (Attempt 3/3)\n",
      "ERROR:root:Max retries (3) exceeded: Error code: 400 - {'error': {'message': \"You uploaded an unsupported image. Please make sure your image has of one the following formats: ['png', 'jpeg', 'gif', 'webp'].\", 'type': 'invalid_request_error', 'param': None, 'code': 'invalid_image_format'}}\n"
     ]
    },
    {
     "name": "stdout",
     "output_type": "stream",
     "text": [
      "Batch processing failed: Error code: 400 - {'error': {'message': \"You uploaded an unsupported image. Please make sure your image has of one the following formats: ['png', 'jpeg', 'gif', 'webp'].\", 'type': 'invalid_request_error', 'param': None, 'code': 'invalid_image_format'}}\n",
      "Failed batch: ['../Datasets/OrganCMNIST/test\\\\0\\\\image_2504.png']\n"
     ]
    },
    {
     "name": "stderr",
     "output_type": "stream",
     "text": [
      "WARNING:root:OpenAI API error: Error code: 400 - {'error': {'message': \"You uploaded an unsupported image. Please make sure your image has of one the following formats: ['png', 'jpeg', 'gif', 'webp'].\", 'type': 'invalid_request_error', 'param': None, 'code': 'invalid_image_format'}}. Retrying in 1.04 seconds... (Attempt 1/3)\n",
      "ERROR:root:Max retries (3) exceeded: Error code: 400 - {'error': {'message': \"You uploaded an unsupported image. Please make sure your image has of one the following formats: ['png', 'jpeg', 'gif', 'webp'].\", 'type': 'invalid_request_error', 'param': None, 'code': 'invalid_image_format'}}\n"
     ]
    },
    {
     "name": "stdout",
     "output_type": "stream",
     "text": [
      "Batch processing failed: Error code: 400 - {'error': {'message': \"You uploaded an unsupported image. Please make sure your image has of one the following formats: ['png', 'jpeg', 'gif', 'webp'].\", 'type': 'invalid_request_error', 'param': None, 'code': 'invalid_image_format'}}\n",
      "Failed batch: ['../Datasets/OrganCMNIST/test\\\\3\\\\image_4063.png']\n"
     ]
    },
    {
     "name": "stderr",
     "output_type": "stream",
     "text": [
      "WARNING:root:OpenAI API error: Error code: 400 - {'error': {'message': \"You uploaded an unsupported image. Please make sure your image has of one the following formats: ['png', 'jpeg', 'gif', 'webp'].\", 'type': 'invalid_request_error', 'param': None, 'code': 'invalid_image_format'}}. Retrying in 1.00 seconds... (Attempt 1/3)\n",
      "WARNING:root:OpenAI API error: Error code: 400 - {'error': {'message': \"You uploaded an unsupported image. Please make sure your image has of one the following formats: ['png', 'jpeg', 'gif', 'webp'].\", 'type': 'invalid_request_error', 'param': None, 'code': 'invalid_image_format'}}. Retrying in 1.96 seconds... (Attempt 2/3)\n",
      "WARNING:root:OpenAI API error: Error code: 400 - {'error': {'message': \"You uploaded an unsupported image. Please make sure your image has of one the following formats: ['png', 'jpeg', 'gif', 'webp'].\", 'type': 'invalid_request_error', 'param': None, 'code': 'invalid_image_format'}}. Retrying in 2.06 seconds... (Attempt 2/3)\n",
      "WARNING:root:OpenAI API error: Error code: 400 - {'error': {'message': \"You uploaded an unsupported image. Please make sure your image has of one the following formats: ['png', 'jpeg', 'gif', 'webp'].\", 'type': 'invalid_request_error', 'param': None, 'code': 'invalid_image_format'}}. Retrying in 4.24 seconds... (Attempt 3/3)\n",
      "WARNING:root:OpenAI API error: Error code: 400 - {'error': {'message': \"You uploaded an unsupported image. Please make sure your image has of one the following formats: ['png', 'jpeg', 'gif', 'webp'].\", 'type': 'invalid_request_error', 'param': None, 'code': 'invalid_image_format'}}. Retrying in 3.85 seconds... (Attempt 3/3)\n",
      "ERROR:root:Max retries (3) exceeded: Error code: 400 - {'error': {'message': \"You uploaded an unsupported image. Please make sure your image has of one the following formats: ['png', 'jpeg', 'gif', 'webp'].\", 'type': 'invalid_request_error', 'param': None, 'code': 'invalid_image_format'}}\n",
      "ERROR:root:Max retries (3) exceeded: Error code: 400 - {'error': {'message': \"You uploaded an unsupported image. Please make sure your image has of one the following formats: ['png', 'jpeg', 'gif', 'webp'].\", 'type': 'invalid_request_error', 'param': None, 'code': 'invalid_image_format'}}\n"
     ]
    },
    {
     "name": "stdout",
     "output_type": "stream",
     "text": [
      "Batch processing failed: Error code: 400 - {'error': {'message': \"You uploaded an unsupported image. Please make sure your image has of one the following formats: ['png', 'jpeg', 'gif', 'webp'].\", 'type': 'invalid_request_error', 'param': None, 'code': 'invalid_image_format'}}\n",
      "Failed batch: ['../Datasets/OrganCMNIST/test\\\\10\\\\image_6205.png']\n",
      "Batch processing failed: Error code: 400 - {'error': {'message': \"You uploaded an unsupported image. Please make sure your image has of one the following formats: ['png', 'jpeg', 'gif', 'webp'].\", 'type': 'invalid_request_error', 'param': None, 'code': 'invalid_image_format'}}\n",
      "Failed batch: ['../Datasets/OrganCMNIST/test\\\\3\\\\image_7852.png']\n"
     ]
    },
    {
     "name": "stderr",
     "output_type": "stream",
     "text": [
      "WARNING:root:OpenAI API error: Error code: 400 - {'error': {'message': \"You uploaded an unsupported image. Please make sure your image has of one the following formats: ['png', 'jpeg', 'gif', 'webp'].\", 'type': 'invalid_request_error', 'param': None, 'code': 'invalid_image_format'}}. Retrying in 1.02 seconds... (Attempt 1/3)\n",
      "WARNING:root:OpenAI API error: Error code: 400 - {'error': {'message': \"You uploaded an unsupported image. Please make sure your image has of one the following formats: ['png', 'jpeg', 'gif', 'webp'].\", 'type': 'invalid_request_error', 'param': None, 'code': 'invalid_image_format'}}. Retrying in 1.06 seconds... (Attempt 1/3)\n",
      "WARNING:root:OpenAI API error: Error code: 400 - {'error': {'message': \"You uploaded an unsupported image. Please make sure your image has of one the following formats: ['png', 'jpeg', 'gif', 'webp'].\", 'type': 'invalid_request_error', 'param': None, 'code': 'invalid_image_format'}}. Retrying in 1.95 seconds... (Attempt 2/3)\n",
      "WARNING:root:OpenAI API error: Error code: 400 - {'error': {'message': \"You uploaded an unsupported image. Please make sure your image has of one the following formats: ['png', 'jpeg', 'gif', 'webp'].\", 'type': 'invalid_request_error', 'param': None, 'code': 'invalid_image_format'}}. Retrying in 3.90 seconds... (Attempt 3/3)\n",
      "ERROR:root:Max retries (3) exceeded: Error code: 400 - {'error': {'message': \"You uploaded an unsupported image. Please make sure your image has of one the following formats: ['png', 'jpeg', 'gif', 'webp'].\", 'type': 'invalid_request_error', 'param': None, 'code': 'invalid_image_format'}}\n",
      "WARNING:root:OpenAI API error: Error code: 400 - {'error': {'message': \"You uploaded an unsupported image. Please make sure your image has of one the following formats: ['png', 'jpeg', 'gif', 'webp'].\", 'type': 'invalid_request_error', 'param': None, 'code': 'invalid_image_format'}}. Retrying in 1.10 seconds... (Attempt 1/3)\n"
     ]
    },
    {
     "name": "stdout",
     "output_type": "stream",
     "text": [
      "Batch processing failed: Error code: 400 - {'error': {'message': \"You uploaded an unsupported image. Please make sure your image has of one the following formats: ['png', 'jpeg', 'gif', 'webp'].\", 'type': 'invalid_request_error', 'param': None, 'code': 'invalid_image_format'}}\n",
      "Failed batch: ['../Datasets/OrganCMNIST/test\\\\8\\\\image_3530.png']\n"
     ]
    },
    {
     "name": "stderr",
     "output_type": "stream",
     "text": [
      "WARNING:root:OpenAI API error: Error code: 400 - {'error': {'message': \"You uploaded an unsupported image. Please make sure your image has of one the following formats: ['png', 'jpeg', 'gif', 'webp'].\", 'type': 'invalid_request_error', 'param': None, 'code': 'invalid_image_format'}}. Retrying in 1.86 seconds... (Attempt 2/3)\n",
      "WARNING:root:OpenAI API error: Error code: 400 - {'error': {'message': \"You uploaded an unsupported image. Please make sure your image has of one the following formats: ['png', 'jpeg', 'gif', 'webp'].\", 'type': 'invalid_request_error', 'param': None, 'code': 'invalid_image_format'}}. Retrying in 2.02 seconds... (Attempt 2/3)\n",
      "WARNING:root:OpenAI API error: Error code: 400 - {'error': {'message': \"You uploaded an unsupported image. Please make sure your image has of one the following formats: ['png', 'jpeg', 'gif', 'webp'].\", 'type': 'invalid_request_error', 'param': None, 'code': 'invalid_image_format'}}. Retrying in 3.79 seconds... (Attempt 3/3)\n",
      "WARNING:root:OpenAI API error: Error code: 400 - {'error': {'message': \"You uploaded an unsupported image. Please make sure your image has of one the following formats: ['png', 'jpeg', 'gif', 'webp'].\", 'type': 'invalid_request_error', 'param': None, 'code': 'invalid_image_format'}}. Retrying in 4.35 seconds... (Attempt 3/3)\n",
      "ERROR:root:Max retries (3) exceeded: Error code: 400 - {'error': {'message': \"You uploaded an unsupported image. Please make sure your image has of one the following formats: ['png', 'jpeg', 'gif', 'webp'].\", 'type': 'invalid_request_error', 'param': None, 'code': 'invalid_image_format'}}\n"
     ]
    },
    {
     "name": "stdout",
     "output_type": "stream",
     "text": [
      "Batch processing failed: Error code: 400 - {'error': {'message': \"You uploaded an unsupported image. Please make sure your image has of one the following formats: ['png', 'jpeg', 'gif', 'webp'].\", 'type': 'invalid_request_error', 'param': None, 'code': 'invalid_image_format'}}\n",
      "Failed batch: ['../Datasets/OrganCMNIST/test\\\\5\\\\image_3945.png']\n"
     ]
    },
    {
     "name": "stderr",
     "output_type": "stream",
     "text": [
      "WARNING:root:OpenAI API error: Error code: 400 - {'error': {'message': \"You uploaded an unsupported image. Please make sure your image has of one the following formats: ['png', 'jpeg', 'gif', 'webp'].\", 'type': 'invalid_request_error', 'param': None, 'code': 'invalid_image_format'}}. Retrying in 0.94 seconds... (Attempt 1/3)\n",
      "ERROR:root:Max retries (3) exceeded: Error code: 400 - {'error': {'message': \"You uploaded an unsupported image. Please make sure your image has of one the following formats: ['png', 'jpeg', 'gif', 'webp'].\", 'type': 'invalid_request_error', 'param': None, 'code': 'invalid_image_format'}}\n",
      "WARNING:root:OpenAI API error: Error code: 400 - {'error': {'message': \"You uploaded an unsupported image. Please make sure your image has of one the following formats: ['png', 'jpeg', 'gif', 'webp'].\", 'type': 'invalid_request_error', 'param': None, 'code': 'invalid_image_format'}}. Retrying in 1.02 seconds... (Attempt 1/3)\n"
     ]
    },
    {
     "name": "stdout",
     "output_type": "stream",
     "text": [
      "Batch processing failed: Error code: 400 - {'error': {'message': \"You uploaded an unsupported image. Please make sure your image has of one the following formats: ['png', 'jpeg', 'gif', 'webp'].\", 'type': 'invalid_request_error', 'param': None, 'code': 'invalid_image_format'}}\n",
      "Failed batch: ['../Datasets/OrganCMNIST/test\\\\0\\\\image_3695.png']\n"
     ]
    },
    {
     "name": "stderr",
     "output_type": "stream",
     "text": [
      "WARNING:root:OpenAI API error: Error code: 400 - {'error': {'message': \"You uploaded an unsupported image. Please make sure your image has of one the following formats: ['png', 'jpeg', 'gif', 'webp'].\", 'type': 'invalid_request_error', 'param': None, 'code': 'invalid_image_format'}}. Retrying in 2.14 seconds... (Attempt 2/3)\n",
      "WARNING:root:OpenAI API error: Error code: 400 - {'error': {'message': \"You uploaded an unsupported image. Please make sure your image has of one the following formats: ['png', 'jpeg', 'gif', 'webp'].\", 'type': 'invalid_request_error', 'param': None, 'code': 'invalid_image_format'}}. Retrying in 1.87 seconds... (Attempt 2/3)\n",
      "WARNING:root:OpenAI API error: Error code: 400 - {'error': {'message': \"You uploaded an unsupported image. Please make sure your image has of one the following formats: ['png', 'jpeg', 'gif', 'webp'].\", 'type': 'invalid_request_error', 'param': None, 'code': 'invalid_image_format'}}. Retrying in 4.20 seconds... (Attempt 3/3)\n",
      "WARNING:root:OpenAI API error: Error code: 400 - {'error': {'message': \"You uploaded an unsupported image. Please make sure your image has of one the following formats: ['png', 'jpeg', 'gif', 'webp'].\", 'type': 'invalid_request_error', 'param': None, 'code': 'invalid_image_format'}}. Retrying in 4.32 seconds... (Attempt 3/3)\n",
      "ERROR:root:Max retries (3) exceeded: Error code: 400 - {'error': {'message': \"You uploaded an unsupported image. Please make sure your image has of one the following formats: ['png', 'jpeg', 'gif', 'webp'].\", 'type': 'invalid_request_error', 'param': None, 'code': 'invalid_image_format'}}\n"
     ]
    },
    {
     "name": "stdout",
     "output_type": "stream",
     "text": [
      "Batch processing failed: Error code: 400 - {'error': {'message': \"You uploaded an unsupported image. Please make sure your image has of one the following formats: ['png', 'jpeg', 'gif', 'webp'].\", 'type': 'invalid_request_error', 'param': None, 'code': 'invalid_image_format'}}\n",
      "Failed batch: ['../Datasets/OrganCMNIST/test\\\\0\\\\image_2152.png']\n"
     ]
    },
    {
     "name": "stderr",
     "output_type": "stream",
     "text": [
      "WARNING:root:OpenAI API error: Error code: 400 - {'error': {'message': \"You uploaded an unsupported image. Please make sure your image has of one the following formats: ['png', 'jpeg', 'gif', 'webp'].\", 'type': 'invalid_request_error', 'param': None, 'code': 'invalid_image_format'}}. Retrying in 0.93 seconds... (Attempt 1/3)\n",
      "ERROR:root:Max retries (3) exceeded: Error code: 400 - {'error': {'message': \"You uploaded an unsupported image. Please make sure your image has of one the following formats: ['png', 'jpeg', 'gif', 'webp'].\", 'type': 'invalid_request_error', 'param': None, 'code': 'invalid_image_format'}}\n"
     ]
    },
    {
     "name": "stdout",
     "output_type": "stream",
     "text": [
      "Batch processing failed: Error code: 400 - {'error': {'message': \"You uploaded an unsupported image. Please make sure your image has of one the following formats: ['png', 'jpeg', 'gif', 'webp'].\", 'type': 'invalid_request_error', 'param': None, 'code': 'invalid_image_format'}}\n",
      "Failed batch: ['../Datasets/OrganCMNIST/test\\\\2\\\\image_633.png']\n"
     ]
    },
    {
     "name": "stderr",
     "output_type": "stream",
     "text": [
      "WARNING:root:OpenAI API error: Error code: 400 - {'error': {'message': \"You uploaded an unsupported image. Please make sure your image has of one the following formats: ['png', 'jpeg', 'gif', 'webp'].\", 'type': 'invalid_request_error', 'param': None, 'code': 'invalid_image_format'}}. Retrying in 1.10 seconds... (Attempt 1/3)\n",
      "WARNING:root:OpenAI API error: Error code: 400 - {'error': {'message': \"You uploaded an unsupported image. Please make sure your image has of one the following formats: ['png', 'jpeg', 'gif', 'webp'].\", 'type': 'invalid_request_error', 'param': None, 'code': 'invalid_image_format'}}. Retrying in 2.09 seconds... (Attempt 2/3)\n",
      "WARNING:root:OpenAI API error: Error code: 400 - {'error': {'message': \"You uploaded an unsupported image. Please make sure your image has of one the following formats: ['png', 'jpeg', 'gif', 'webp'].\", 'type': 'invalid_request_error', 'param': None, 'code': 'invalid_image_format'}}. Retrying in 2.12 seconds... (Attempt 2/3)\n",
      "WARNING:root:OpenAI API error: Error code: 400 - {'error': {'message': \"You uploaded an unsupported image. Please make sure your image has of one the following formats: ['png', 'jpeg', 'gif', 'webp'].\", 'type': 'invalid_request_error', 'param': None, 'code': 'invalid_image_format'}}. Retrying in 4.36 seconds... (Attempt 3/3)\n",
      "WARNING:root:OpenAI API error: Error code: 400 - {'error': {'message': \"You uploaded an unsupported image. Please make sure your image has of one the following formats: ['png', 'jpeg', 'gif', 'webp'].\", 'type': 'invalid_request_error', 'param': None, 'code': 'invalid_image_format'}}. Retrying in 4.36 seconds... (Attempt 3/3)\n",
      "ERROR:root:Max retries (3) exceeded: Error code: 400 - {'error': {'message': \"You uploaded an unsupported image. Please make sure your image has of one the following formats: ['png', 'jpeg', 'gif', 'webp'].\", 'type': 'invalid_request_error', 'param': None, 'code': 'invalid_image_format'}}\n",
      "WARNING:root:OpenAI API error: Error code: 400 - {'error': {'message': \"You uploaded an unsupported image. Please make sure your image has of one the following formats: ['png', 'jpeg', 'gif', 'webp'].\", 'type': 'invalid_request_error', 'param': None, 'code': 'invalid_image_format'}}. Retrying in 1.08 seconds... (Attempt 1/3)\n"
     ]
    },
    {
     "name": "stdout",
     "output_type": "stream",
     "text": [
      "Batch processing failed: Error code: 400 - {'error': {'message': \"You uploaded an unsupported image. Please make sure your image has of one the following formats: ['png', 'jpeg', 'gif', 'webp'].\", 'type': 'invalid_request_error', 'param': None, 'code': 'invalid_image_format'}}\n",
      "Failed batch: ['../Datasets/OrganCMNIST/test\\\\6\\\\image_8032.png']\n"
     ]
    },
    {
     "name": "stderr",
     "output_type": "stream",
     "text": [
      "ERROR:root:Max retries (3) exceeded: Error code: 400 - {'error': {'message': \"You uploaded an unsupported image. Please make sure your image has of one the following formats: ['png', 'jpeg', 'gif', 'webp'].\", 'type': 'invalid_request_error', 'param': None, 'code': 'invalid_image_format'}}\n"
     ]
    },
    {
     "name": "stdout",
     "output_type": "stream",
     "text": [
      "Batch processing failed: Error code: 400 - {'error': {'message': \"You uploaded an unsupported image. Please make sure your image has of one the following formats: ['png', 'jpeg', 'gif', 'webp'].\", 'type': 'invalid_request_error', 'param': None, 'code': 'invalid_image_format'}}\n",
      "Failed batch: ['../Datasets/OrganCMNIST/test\\\\10\\\\image_5868.png']\n"
     ]
    },
    {
     "name": "stderr",
     "output_type": "stream",
     "text": [
      "WARNING:root:OpenAI API error: Error code: 400 - {'error': {'message': \"You uploaded an unsupported image. Please make sure your image has of one the following formats: ['png', 'jpeg', 'gif', 'webp'].\", 'type': 'invalid_request_error', 'param': None, 'code': 'invalid_image_format'}}. Retrying in 1.05 seconds... (Attempt 1/3)\n",
      "WARNING:root:OpenAI API error: Error code: 400 - {'error': {'message': \"You uploaded an unsupported image. Please make sure your image has of one the following formats: ['png', 'jpeg', 'gif', 'webp'].\", 'type': 'invalid_request_error', 'param': None, 'code': 'invalid_image_format'}}. Retrying in 2.11 seconds... (Attempt 2/3)\n",
      "WARNING:root:OpenAI API error: Error code: 400 - {'error': {'message': \"You uploaded an unsupported image. Please make sure your image has of one the following formats: ['png', 'jpeg', 'gif', 'webp'].\", 'type': 'invalid_request_error', 'param': None, 'code': 'invalid_image_format'}}. Retrying in 2.05 seconds... (Attempt 2/3)\n",
      "WARNING:root:OpenAI API error: Error code: 400 - {'error': {'message': \"You uploaded an unsupported image. Please make sure your image has of one the following formats: ['png', 'jpeg', 'gif', 'webp'].\", 'type': 'invalid_request_error', 'param': None, 'code': 'invalid_image_format'}}. Retrying in 3.87 seconds... (Attempt 3/3)\n",
      "WARNING:root:OpenAI API error: Error code: 400 - {'error': {'message': \"You uploaded an unsupported image. Please make sure your image has of one the following formats: ['png', 'jpeg', 'gif', 'webp'].\", 'type': 'invalid_request_error', 'param': None, 'code': 'invalid_image_format'}}. Retrying in 4.19 seconds... (Attempt 3/3)\n",
      "ERROR:root:Max retries (3) exceeded: Error code: 400 - {'error': {'message': \"You uploaded an unsupported image. Please make sure your image has of one the following formats: ['png', 'jpeg', 'gif', 'webp'].\", 'type': 'invalid_request_error', 'param': None, 'code': 'invalid_image_format'}}\n",
      "WARNING:root:OpenAI API error: Error code: 400 - {'error': {'message': \"You uploaded an unsupported image. Please make sure your image has of one the following formats: ['png', 'jpeg', 'gif', 'webp'].\", 'type': 'invalid_request_error', 'param': None, 'code': 'invalid_image_format'}}. Retrying in 0.90 seconds... (Attempt 1/3)\n"
     ]
    },
    {
     "name": "stdout",
     "output_type": "stream",
     "text": [
      "Batch processing failed: Error code: 400 - {'error': {'message': \"You uploaded an unsupported image. Please make sure your image has of one the following formats: ['png', 'jpeg', 'gif', 'webp'].\", 'type': 'invalid_request_error', 'param': None, 'code': 'invalid_image_format'}}\n",
      "Failed batch: ['../Datasets/OrganCMNIST/test\\\\7\\\\image_4758.png']\n"
     ]
    },
    {
     "name": "stderr",
     "output_type": "stream",
     "text": [
      "WARNING:root:OpenAI API error: Error code: 400 - {'error': {'message': \"You uploaded an unsupported image. Please make sure your image has of one the following formats: ['png', 'jpeg', 'gif', 'webp'].\", 'type': 'invalid_request_error', 'param': None, 'code': 'invalid_image_format'}}. Retrying in 2.19 seconds... (Attempt 2/3)\n",
      "ERROR:root:Max retries (3) exceeded: Error code: 400 - {'error': {'message': \"You uploaded an unsupported image. Please make sure your image has of one the following formats: ['png', 'jpeg', 'gif', 'webp'].\", 'type': 'invalid_request_error', 'param': None, 'code': 'invalid_image_format'}}\n"
     ]
    },
    {
     "name": "stdout",
     "output_type": "stream",
     "text": [
      "Batch processing failed: Error code: 400 - {'error': {'message': \"You uploaded an unsupported image. Please make sure your image has of one the following formats: ['png', 'jpeg', 'gif', 'webp'].\", 'type': 'invalid_request_error', 'param': None, 'code': 'invalid_image_format'}}\n",
      "Failed batch: ['../Datasets/OrganCMNIST/test\\\\8\\\\image_3014.png']\n"
     ]
    },
    {
     "name": "stderr",
     "output_type": "stream",
     "text": [
      "WARNING:root:OpenAI API error: Error code: 400 - {'error': {'message': \"You uploaded an unsupported image. Please make sure your image has of one the following formats: ['png', 'jpeg', 'gif', 'webp'].\", 'type': 'invalid_request_error', 'param': None, 'code': 'invalid_image_format'}}. Retrying in 0.98 seconds... (Attempt 1/3)\n",
      "WARNING:root:OpenAI API error: Error code: 400 - {'error': {'message': \"You uploaded an unsupported image. Please make sure your image has of one the following formats: ['png', 'jpeg', 'gif', 'webp'].\", 'type': 'invalid_request_error', 'param': None, 'code': 'invalid_image_format'}}. Retrying in 1.87 seconds... (Attempt 2/3)\n",
      "WARNING:root:OpenAI API error: Error code: 400 - {'error': {'message': \"You uploaded an unsupported image. Please make sure your image has of one the following formats: ['png', 'jpeg', 'gif', 'webp'].\", 'type': 'invalid_request_error', 'param': None, 'code': 'invalid_image_format'}}. Retrying in 4.23 seconds... (Attempt 3/3)\n",
      "WARNING:root:OpenAI API error: Error code: 400 - {'error': {'message': \"You uploaded an unsupported image. Please make sure your image has of one the following formats: ['png', 'jpeg', 'gif', 'webp'].\", 'type': 'invalid_request_error', 'param': None, 'code': 'invalid_image_format'}}. Retrying in 4.17 seconds... (Attempt 3/3)\n",
      "ERROR:root:Max retries (3) exceeded: Error code: 400 - {'error': {'message': \"You uploaded an unsupported image. Please make sure your image has of one the following formats: ['png', 'jpeg', 'gif', 'webp'].\", 'type': 'invalid_request_error', 'param': None, 'code': 'invalid_image_format'}}\n"
     ]
    },
    {
     "name": "stdout",
     "output_type": "stream",
     "text": [
      "Batch processing failed: Error code: 400 - {'error': {'message': \"You uploaded an unsupported image. Please make sure your image has of one the following formats: ['png', 'jpeg', 'gif', 'webp'].\", 'type': 'invalid_request_error', 'param': None, 'code': 'invalid_image_format'}}\n",
      "Failed batch: ['../Datasets/OrganCMNIST/test\\\\0\\\\image_1294.png']\n"
     ]
    },
    {
     "name": "stderr",
     "output_type": "stream",
     "text": [
      "WARNING:root:OpenAI API error: Error code: 400 - {'error': {'message': \"You uploaded an unsupported image. Please make sure your image has of one the following formats: ['png', 'jpeg', 'gif', 'webp'].\", 'type': 'invalid_request_error', 'param': None, 'code': 'invalid_image_format'}}. Retrying in 0.91 seconds... (Attempt 1/3)\n",
      "WARNING:root:OpenAI API error: Error code: 400 - {'error': {'message': \"You uploaded an unsupported image. Please make sure your image has of one the following formats: ['png', 'jpeg', 'gif', 'webp'].\", 'type': 'invalid_request_error', 'param': None, 'code': 'invalid_image_format'}}. Retrying in 1.86 seconds... (Attempt 2/3)\n",
      "ERROR:root:Max retries (3) exceeded: Error code: 400 - {'error': {'message': \"You uploaded an unsupported image. Please make sure your image has of one the following formats: ['png', 'jpeg', 'gif', 'webp'].\", 'type': 'invalid_request_error', 'param': None, 'code': 'invalid_image_format'}}\n",
      "WARNING:root:OpenAI API error: Error code: 400 - {'error': {'message': \"You uploaded an unsupported image. Please make sure your image has of one the following formats: ['png', 'jpeg', 'gif', 'webp'].\", 'type': 'invalid_request_error', 'param': None, 'code': 'invalid_image_format'}}. Retrying in 1.01 seconds... (Attempt 1/3)\n"
     ]
    },
    {
     "name": "stdout",
     "output_type": "stream",
     "text": [
      "Batch processing failed: Error code: 400 - {'error': {'message': \"You uploaded an unsupported image. Please make sure your image has of one the following formats: ['png', 'jpeg', 'gif', 'webp'].\", 'type': 'invalid_request_error', 'param': None, 'code': 'invalid_image_format'}}\n",
      "Failed batch: ['../Datasets/OrganCMNIST/test\\\\9\\\\image_5515.png']\n"
     ]
    },
    {
     "name": "stderr",
     "output_type": "stream",
     "text": [
      "WARNING:root:OpenAI API error: Error code: 400 - {'error': {'message': \"You uploaded an unsupported image. Please make sure your image has of one the following formats: ['png', 'jpeg', 'gif', 'webp'].\", 'type': 'invalid_request_error', 'param': None, 'code': 'invalid_image_format'}}. Retrying in 1.95 seconds... (Attempt 2/3)\n",
      "WARNING:root:OpenAI API error: Error code: 400 - {'error': {'message': \"You uploaded an unsupported image. Please make sure your image has of one the following formats: ['png', 'jpeg', 'gif', 'webp'].\", 'type': 'invalid_request_error', 'param': None, 'code': 'invalid_image_format'}}. Retrying in 4.28 seconds... (Attempt 3/3)\n",
      "WARNING:root:OpenAI API error: Error code: 400 - {'error': {'message': \"You uploaded an unsupported image. Please make sure your image has of one the following formats: ['png', 'jpeg', 'gif', 'webp'].\", 'type': 'invalid_request_error', 'param': None, 'code': 'invalid_image_format'}}. Retrying in 3.71 seconds... (Attempt 3/3)\n",
      "ERROR:root:Max retries (3) exceeded: Error code: 400 - {'error': {'message': \"You uploaded an unsupported image. Please make sure your image has of one the following formats: ['png', 'jpeg', 'gif', 'webp'].\", 'type': 'invalid_request_error', 'param': None, 'code': 'invalid_image_format'}}\n",
      "WARNING:root:OpenAI API error: Error code: 400 - {'error': {'message': \"You uploaded an unsupported image. Please make sure your image has of one the following formats: ['png', 'jpeg', 'gif', 'webp'].\", 'type': 'invalid_request_error', 'param': None, 'code': 'invalid_image_format'}}. Retrying in 0.95 seconds... (Attempt 1/3)\n",
      "ERROR:root:Max retries (3) exceeded: Error code: 400 - {'error': {'message': \"You uploaded an unsupported image. Please make sure your image has of one the following formats: ['png', 'jpeg', 'gif', 'webp'].\", 'type': 'invalid_request_error', 'param': None, 'code': 'invalid_image_format'}}\n",
      "WARNING:root:OpenAI API error: Error code: 400 - {'error': {'message': \"You uploaded an unsupported image. Please make sure your image has of one the following formats: ['png', 'jpeg', 'gif', 'webp'].\", 'type': 'invalid_request_error', 'param': None, 'code': 'invalid_image_format'}}. Retrying in 1.00 seconds... (Attempt 1/3)\n",
      "WARNING:root:OpenAI API error: Error code: 400 - {'error': {'message': \"You uploaded an unsupported image. Please make sure your image has of one the following formats: ['png', 'jpeg', 'gif', 'webp'].\", 'type': 'invalid_request_error', 'param': None, 'code': 'invalid_image_format'}}. Retrying in 1.85 seconds... (Attempt 2/3)\n",
      "WARNING:root:OpenAI API error: Error code: 400 - {'error': {'message': \"You uploaded an unsupported image. Please make sure your image has of one the following formats: ['png', 'jpeg', 'gif', 'webp'].\", 'type': 'invalid_request_error', 'param': None, 'code': 'invalid_image_format'}}. Retrying in 1.81 seconds... (Attempt 2/3)\n",
      "WARNING:root:OpenAI API error: Error code: 400 - {'error': {'message': \"You uploaded an unsupported image. Please make sure your image has of one the following formats: ['png', 'jpeg', 'gif', 'webp'].\", 'type': 'invalid_request_error', 'param': None, 'code': 'invalid_image_format'}}. Retrying in 4.07 seconds... (Attempt 3/3)\n",
      "WARNING:root:OpenAI API error: Error code: 400 - {'error': {'message': \"You uploaded an unsupported image. Please make sure your image has of one the following formats: ['png', 'jpeg', 'gif', 'webp'].\", 'type': 'invalid_request_error', 'param': None, 'code': 'invalid_image_format'}}. Retrying in 3.66 seconds... (Attempt 3/3)\n"
     ]
    }
   ],
   "source": [
    "mcp = MultiClassPrediction(batch_size = 1, max_workers=2)\n",
    "scp = SingleClassPrediction(batch_size = 1, max_workers=2)\n",
    "\n",
    "exp_results = []\n",
    "\n",
    "# Iterate over the number of experiments\n",
    "for experiment in range(number_of_experiment):\n",
    "    print(f\"Experiment {experiment+1}/{number_of_experiment}\")\n",
    "\n",
    "    # Iterate over the models\n",
    "    for model in model_list:\n",
    "        model_name = model[\"model_name\"]\n",
    "        model_type = model[\"model_type\"]\n",
    "\n",
    "        print(f\"Model: {model_name}\")\n",
    "        print(f\"Model Type: {model_type}\")\n",
    "\n",
    "        # Update the model\n",
    "        mcp.update_model(model_name)\n",
    "        scp.update_model(model_name)\n",
    "\n",
    "        # For each model, initialize the variables for the Algorithm\n",
    "        n = len(init_classes_of_interest)\n",
    "        k = 2\n",
    "        threshold = 2\n",
    "        number_of_classes_to_predict = math.ceil(n / k)\n",
    "        image_paths = initial_image_paths\n",
    "\n",
    "        while number_of_classes_to_predict >= threshold:\n",
    "\n",
    "            # Store a dictionary of the image paths and their classes of interest\n",
    "            image_paths_classes_dict = {i[0]: i[1] for i in zip(image_paths, classes_of_interest_list)}\n",
    "\n",
    "            # print(f\"Number of classes to predict: {number_of_classes_to_predict}\")\n",
    "            # Create the multiclass image tasks\n",
    "            multiclass_image_tasks = create_multiclass_image_tasks(image_paths, classes_of_interest_list, number_of_classes_to_predict, \n",
    "                                                                   dictionary_of_interest=image_paths_classes_dict,\n",
    "                                                                   not_of_interest=True)\n",
    "            # print(\"multiclass_image_tasks\", multiclass_image_tasks)\n",
    "\n",
    "            \n",
    "\n",
    "            # Prompt the model to predict \"number_of_classes_to_predict\" classes for each image\n",
    "            rs = mcp.process_images(multiclass_image_tasks, model_type)\n",
    "\n",
    "            # print(\"rs_of_interest: \", rs)\n",
    "\n",
    "            # Set the predicted classes as the new classes of interest\n",
    "            result_list, image_paths, classes_of_interest_list = extract_image_classes_from_multiclass_predictions(rs, number_of_classes_to_predict)\n",
    "\n",
    "            # Create a second variation of the multiclass image tasks which are the classes that are not of interest\n",
    "            # multiclass_image_tasks_not_of_interest = create_multiclass_image_tasks(image_paths, \n",
    "            #                                                                        classes_of_interest_list, \n",
    "            #                                                                        number_of_classes_to_predict, \n",
    "            #                                                                     #    consistency_sample=int(math.ceil(len(classes_of_interest_list[0]) / 2)),\n",
    "            #                                                                        dictionary_of_interest=image_paths_classes_dict, \n",
    "            #                                                                        not_of_interest=True)\n",
    "            \n",
    "            # print(\"multiclass_image_tasks_not_of_interest\", multiclass_image_tasks_not_of_interest)\n",
    "            \n",
    "            # Prompt the model to predict the classes that are not of interest\n",
    "            # rs_not_of_interest = mcp.process_images(multiclass_image_tasks_not_of_interest, model_type)\n",
    "            # result_list, image_paths, classes_of_interest_list = extract_image_classes_from_multiclass_predictions(rs_not_of_interest, number_of_classes_to_predict)\n",
    "\n",
    "            image_paths_classes = [dataset_classes_of_interest[image_path.split(\"\\\\\")[-2]] for image_path in image_paths]\n",
    "            curr_pred_acc = compute_top_n_accuracy(image_paths_classes, classes_of_interest_list)\n",
    "\n",
    "            # print(f\"Predicted Classes: {classes_of_interest_list}\")\n",
    "            # print(f\"Correct Classes: {image_paths_classes}\")\n",
    "            print(f\"Accuracy: {curr_pred_acc}\")\n",
    "\n",
    "            log_experiment_results(dataset_classes_of_interest, exp_results, experiment, model_name, model_type, number_of_classes_to_predict, image_paths, classes_of_interest_list)\n",
    "\n",
    "            # Update the number of classes to predict\n",
    "            number_of_classes_to_predict = math.ceil(number_of_classes_to_predict / k)\n",
    "\n",
    "        if rs:\n",
    "            # Result from Multiclass Prediction\n",
    "            result_list, _, _ = extract_image_classes_from_multiclass_predictions(rs)\n",
    "        else:\n",
    "            # Go to SingleTask result list directly\n",
    "            result_list = create_singleclass_image_tasks(image_paths, classes_of_interest_list)\n",
    "\n",
    "        # Predict the single classes for each image\n",
    "        f_res = scp.process_images(result_list, model_type)\n",
    "        correct_classes, pred_classes, image_paths = extract_single_classes(f_res, dataset_classes_of_interest)\n",
    "\n",
    "        # Count the number of matches\n",
    "        pred_result = count_matches(correct_classes, pred_classes)\n",
    "\n",
    "        # print(f\"Predicted Classes: {pred_classes}\")\n",
    "        # print(f\"Correct Classes: {correct_classes}\")\n",
    "        print(f\"Accuracy: {pred_result}\")\n",
    "\n",
    "        log_experiment_results(dataset_classes_of_interest, exp_results, experiment, model_name, model_type, number_of_classes_to_predict, image_paths, classes_of_interest_list)"
   ]
  },
  {
   "cell_type": "code",
   "execution_count": null,
   "metadata": {},
   "outputs": [],
   "source": [
    "x_sam = pd.DataFrame(exp_results)"
   ]
  },
  {
   "cell_type": "code",
   "execution_count": null,
   "metadata": {},
   "outputs": [],
   "source": [
    "pd.DataFrame(exp_results).to_csv(f\"{DATASET_NAME}_results_Algorithm1_EXP1.csv\", index=False)"
   ]
  }
 ],
 "metadata": {
  "kernelspec": {
   "display_name": "Python 3",
   "language": "python",
   "name": "python3"
  },
  "language_info": {
   "codemirror_mode": {
    "name": "ipython",
    "version": 3
   },
   "file_extension": ".py",
   "mimetype": "text/x-python",
   "name": "python",
   "nbconvert_exporter": "python",
   "pygments_lexer": "ipython3",
   "version": "3.10.11"
  }
 },
 "nbformat": 4,
 "nbformat_minor": 2
}
