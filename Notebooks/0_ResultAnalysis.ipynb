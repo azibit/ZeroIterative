{
 "cells": [
  {
   "cell_type": "markdown",
   "metadata": {},
   "source": [
    "#### This code serves to analyse the results from different datasets and models"
   ]
  },
  {
   "cell_type": "code",
   "execution_count": 18,
   "metadata": {},
   "outputs": [],
   "source": [
    "from ExtraFunctions import *\n",
    "import numpy as np\n",
    "import pandas as pd\n",
    "import random"
   ]
  },
  {
   "cell_type": "code",
   "execution_count": 2,
   "metadata": {},
   "outputs": [],
   "source": [
    "def get_bootstrap_results(rs, random_state=1000):\n",
    "    result = pd.DataFrame({\n",
    "        'LLM Predicted Classes': eval(rs['LLM Predicted Classes'].values[0]),\n",
    "        'Correct Classes': eval(rs['Correct Classes'].values[0]),\n",
    "    })\n",
    "\n",
    "\n",
    "    bootstrap_df = result.sample(n=len(result), replace=True, random_state=random_state)\n",
    "    return compute_top_n_accuracy( bootstrap_df['Correct Classes'].values.tolist(), bootstrap_df['LLM Predicted Classes'].values.tolist())"
   ]
  },
  {
   "cell_type": "code",
   "execution_count": 3,
   "metadata": {},
   "outputs": [],
   "source": [
    "DATASET_NAME = \"PathMNIST\"\n",
    "ALGORITHM_NUMBER = 5"
   ]
  },
  {
   "cell_type": "code",
   "execution_count": 8,
   "metadata": {},
   "outputs": [],
   "source": [
    "dataset_list = ['OrganCMNIST', 'PathMNIST', 'BloodMNIST', 'DermaMNIST', 'OctMNIST']\n",
    "algorithm_list = [2, 3, 5]\n",
    "model_name = \"gpt-4o-mini\""
   ]
  },
  {
   "cell_type": "code",
   "execution_count": 30,
   "metadata": {},
   "outputs": [
    {
     "name": "stdout",
     "output_type": "stream",
     "text": [
      "[73, 320, 446, 946, 253, 806, 457, 302, 263, 883, 803, 574, 98, 763, 887, 949, 864, 507, 189, 480, 536, 132, 940, 804, 734, 72, 732, 373, 746, 172, 418, 746, 722, 469, 655, 518, 32, 542, 115, 864, 394, 139, 380, 25, 902, 10, 728, 212, 714, 480, 630, 211, 685, 327, 619, 495, 973, 314, 207, 299, 72, 205, 776, 944, 329, 994, 683, 898, 362, 813, 981, 416, 80, 318, 90, 414, 280, 18, 626, 121, 360, 486, 619, 425, 58, 670, 408, 575, 721, 102, 758, 869, 619, 437, 324, 490, 843, 381, 811, 376]\n"
     ]
    }
   ],
   "source": [
    "# Set the seed for reproducibility\n",
    "random.seed(66)  # 42 is arbitrary, you can use any number\n",
    "\n",
    "# Generate 30 random numbers\n",
    "numbers = [random.randint(1, 1000) for _ in range(100)]\n",
    "\n",
    "print(numbers)"
   ]
  },
  {
   "cell_type": "code",
   "execution_count": 36,
   "metadata": {},
   "outputs": [],
   "source": [
    "algo_full_name = {\n",
    "    2: \"Image Augmentations\",\n",
    "    3: \"Image Augmentations + Feature Description\",\n",
    "    5: \"Image Augmentations + Image Textual Description\"\n",
    "}"
   ]
  },
  {
   "cell_type": "code",
   "execution_count": 37,
   "metadata": {},
   "outputs": [
    {
     "name": "stdout",
     "output_type": "stream",
     "text": [
      "Dataset: OrganCMNIST, Algorithm: 2\n",
      "Dataset: OrganCMNIST, Algorithm: 3\n",
      "Dataset: OrganCMNIST, Algorithm: 5\n",
      "Dataset: PathMNIST, Algorithm: 2\n",
      "Dataset: PathMNIST, Algorithm: 3\n",
      "Dataset: PathMNIST, Algorithm: 5\n",
      "Dataset: BloodMNIST, Algorithm: 2\n",
      "Dataset: BloodMNIST, Algorithm: 3\n",
      "Dataset: BloodMNIST, Algorithm: 5\n",
      "Dataset: DermaMNIST, Algorithm: 2\n",
      "Dataset: DermaMNIST, Algorithm: 3\n",
      "Dataset: DermaMNIST, Algorithm: 5\n",
      "Dataset: OctMNIST, Algorithm: 2\n",
      "Dataset: OctMNIST, Algorithm: 3\n",
      "Dataset: OctMNIST, Algorithm: 5\n"
     ]
    }
   ],
   "source": [
    "total_result = []\n",
    "\n",
    "for dataset in dataset_list:\n",
    "    for algorithm in algorithm_list:\n",
    "        print(f\"Dataset: {dataset}, Algorithm: {algorithm}\")\n",
    "        rs =pd.read_csv(f'./Results/{dataset}/Batch_Size_5/{dataset}_results_Algorithm{algorithm}_EXP1.csv')\n",
    "        rs_gpt_4o_mini = rs[(rs['number of classes'] == 1) & (rs['model_name'] == 'gpt-4o-mini')]\n",
    "\n",
    "        result_of_bootstrap = []\n",
    "        for number in numbers:\n",
    "            final_acc = int(get_bootstrap_results(rs_gpt_4o_mini, random_state=number).split()[0])\n",
    "            result_of_bootstrap.append(final_acc)\n",
    "\n",
    "        # print(np.mean(result_of_bootstrap), np.std(result_of_bootstrap))\n",
    "        total_result.append([dataset, algo_full_name[algorithm], np.mean(result_of_bootstrap), np.std(result_of_bootstrap)])"
   ]
  },
  {
   "cell_type": "code",
   "execution_count": 41,
   "metadata": {},
   "outputs": [],
   "source": [
    "pd.DataFrame(total_result, columns=['Dataset', 'Algorithm', 'Mean', 'Std']).T.to_csv(f'./Results/Bootstrap_Results_{model_name}_Batch_Size_5.csv', index=False)"
   ]
  },
  {
   "cell_type": "code",
   "execution_count": 164,
   "metadata": {},
   "outputs": [
    {
     "data": {
      "text/html": [
       "<div>\n",
       "<style scoped>\n",
       "    .dataframe tbody tr th:only-of-type {\n",
       "        vertical-align: middle;\n",
       "    }\n",
       "\n",
       "    .dataframe tbody tr th {\n",
       "        vertical-align: top;\n",
       "    }\n",
       "\n",
       "    .dataframe thead th {\n",
       "        text-align: right;\n",
       "    }\n",
       "</style>\n",
       "<table border=\"1\" class=\"dataframe\">\n",
       "  <thead>\n",
       "    <tr style=\"text-align: right;\">\n",
       "      <th></th>\n",
       "      <th>experiment</th>\n",
       "      <th>number of classes</th>\n",
       "      <th>model_name</th>\n",
       "      <th>model_type</th>\n",
       "      <th>accuracy</th>\n",
       "      <th>image_paths</th>\n",
       "      <th>LLM Predicted Classes</th>\n",
       "      <th>Correct Classes</th>\n",
       "      <th>Voting Result</th>\n",
       "    </tr>\n",
       "  </thead>\n",
       "  <tbody>\n",
       "    <tr>\n",
       "      <th>0</th>\n",
       "      <td>0</td>\n",
       "      <td>5</td>\n",
       "      <td>gpt-4o-mini</td>\n",
       "      <td>openai</td>\n",
       "      <td>124 out of 200</td>\n",
       "      <td>['../Datasets/PathMNIST/test\\\\8\\\\image_1754.pn...</td>\n",
       "      <td>[['background', 'debris', 'mucus', 'cancer-ass...</td>\n",
       "      <td>['colorectal adenocarcinoma epithelium', 'debr...</td>\n",
       "      <td>NaN</td>\n",
       "    </tr>\n",
       "    <tr>\n",
       "      <th>1</th>\n",
       "      <td>0</td>\n",
       "      <td>3</td>\n",
       "      <td>gpt-4o-mini</td>\n",
       "      <td>openai</td>\n",
       "      <td>108 out of 200</td>\n",
       "      <td>['../Datasets/PathMNIST/test\\\\8\\\\image_1754.pn...</td>\n",
       "      <td>[['debris', 'background', 'cancer-associated s...</td>\n",
       "      <td>['colorectal adenocarcinoma epithelium', 'debr...</td>\n",
       "      <td>NaN</td>\n",
       "    </tr>\n",
       "    <tr>\n",
       "      <th>2</th>\n",
       "      <td>0</td>\n",
       "      <td>2</td>\n",
       "      <td>gpt-4o-mini</td>\n",
       "      <td>openai</td>\n",
       "      <td>77 out of 200</td>\n",
       "      <td>['../Datasets/PathMNIST/test\\\\7\\\\image_2935.pn...</td>\n",
       "      <td>[['normal colon mucosa', 'cancer-associated st...</td>\n",
       "      <td>['cancer-associated stroma', 'smooth muscle', ...</td>\n",
       "      <td>NaN</td>\n",
       "    </tr>\n",
       "    <tr>\n",
       "      <th>3</th>\n",
       "      <td>0</td>\n",
       "      <td>1</td>\n",
       "      <td>gpt-4o-mini</td>\n",
       "      <td>openai</td>\n",
       "      <td>30 out of 100</td>\n",
       "      <td>['../Datasets/PathMNIST/test\\\\8\\\\image_1754.pn...</td>\n",
       "      <td>['colorectal adenocarcinoma epithelium', 'lymp...</td>\n",
       "      <td>['colorectal adenocarcinoma epithelium', 'debr...</td>\n",
       "      <td>[['cancer-associated stroma', 'debris', 'color...</td>\n",
       "    </tr>\n",
       "    <tr>\n",
       "      <th>4</th>\n",
       "      <td>0</td>\n",
       "      <td>5</td>\n",
       "      <td>gpt-4o</td>\n",
       "      <td>openai</td>\n",
       "      <td>144 out of 200</td>\n",
       "      <td>['../Datasets/PathMNIST/test\\\\8\\\\image_1754.pn...</td>\n",
       "      <td>[['background', 'mucus', 'cancer-associated st...</td>\n",
       "      <td>['colorectal adenocarcinoma epithelium', 'debr...</td>\n",
       "      <td>NaN</td>\n",
       "    </tr>\n",
       "    <tr>\n",
       "      <th>5</th>\n",
       "      <td>0</td>\n",
       "      <td>3</td>\n",
       "      <td>gpt-4o</td>\n",
       "      <td>openai</td>\n",
       "      <td>124 out of 200</td>\n",
       "      <td>['../Datasets/PathMNIST/test\\\\7\\\\image_2935.pn...</td>\n",
       "      <td>[['smooth muscle', 'background', 'normal colon...</td>\n",
       "      <td>['cancer-associated stroma', 'smooth muscle', ...</td>\n",
       "      <td>NaN</td>\n",
       "    </tr>\n",
       "    <tr>\n",
       "      <th>6</th>\n",
       "      <td>0</td>\n",
       "      <td>2</td>\n",
       "      <td>gpt-4o</td>\n",
       "      <td>openai</td>\n",
       "      <td>107 out of 200</td>\n",
       "      <td>['../Datasets/PathMNIST/test\\\\8\\\\image_1754.pn...</td>\n",
       "      <td>[['cancer-associated stroma', 'colorectal aden...</td>\n",
       "      <td>['colorectal adenocarcinoma epithelium', 'debr...</td>\n",
       "      <td>NaN</td>\n",
       "    </tr>\n",
       "    <tr>\n",
       "      <th>7</th>\n",
       "      <td>0</td>\n",
       "      <td>1</td>\n",
       "      <td>gpt-4o</td>\n",
       "      <td>openai</td>\n",
       "      <td>43 out of 100</td>\n",
       "      <td>['../Datasets/PathMNIST/test\\\\7\\\\image_2935.pn...</td>\n",
       "      <td>['smooth muscle', 'cancer-associated stroma', ...</td>\n",
       "      <td>['cancer-associated stroma', 'smooth muscle', ...</td>\n",
       "      <td>[['background', 'smooth muscle', 'cancer-assoc...</td>\n",
       "    </tr>\n",
       "  </tbody>\n",
       "</table>\n",
       "</div>"
      ],
      "text/plain": [
       "   experiment  number of classes   model_name model_type        accuracy  \\\n",
       "0           0                  5  gpt-4o-mini     openai  124 out of 200   \n",
       "1           0                  3  gpt-4o-mini     openai  108 out of 200   \n",
       "2           0                  2  gpt-4o-mini     openai   77 out of 200   \n",
       "3           0                  1  gpt-4o-mini     openai   30 out of 100   \n",
       "4           0                  5       gpt-4o     openai  144 out of 200   \n",
       "5           0                  3       gpt-4o     openai  124 out of 200   \n",
       "6           0                  2       gpt-4o     openai  107 out of 200   \n",
       "7           0                  1       gpt-4o     openai   43 out of 100   \n",
       "\n",
       "                                         image_paths  \\\n",
       "0  ['../Datasets/PathMNIST/test\\\\8\\\\image_1754.pn...   \n",
       "1  ['../Datasets/PathMNIST/test\\\\8\\\\image_1754.pn...   \n",
       "2  ['../Datasets/PathMNIST/test\\\\7\\\\image_2935.pn...   \n",
       "3  ['../Datasets/PathMNIST/test\\\\8\\\\image_1754.pn...   \n",
       "4  ['../Datasets/PathMNIST/test\\\\8\\\\image_1754.pn...   \n",
       "5  ['../Datasets/PathMNIST/test\\\\7\\\\image_2935.pn...   \n",
       "6  ['../Datasets/PathMNIST/test\\\\8\\\\image_1754.pn...   \n",
       "7  ['../Datasets/PathMNIST/test\\\\7\\\\image_2935.pn...   \n",
       "\n",
       "                               LLM Predicted Classes  \\\n",
       "0  [['background', 'debris', 'mucus', 'cancer-ass...   \n",
       "1  [['debris', 'background', 'cancer-associated s...   \n",
       "2  [['normal colon mucosa', 'cancer-associated st...   \n",
       "3  ['colorectal adenocarcinoma epithelium', 'lymp...   \n",
       "4  [['background', 'mucus', 'cancer-associated st...   \n",
       "5  [['smooth muscle', 'background', 'normal colon...   \n",
       "6  [['cancer-associated stroma', 'colorectal aden...   \n",
       "7  ['smooth muscle', 'cancer-associated stroma', ...   \n",
       "\n",
       "                                     Correct Classes  \\\n",
       "0  ['colorectal adenocarcinoma epithelium', 'debr...   \n",
       "1  ['colorectal adenocarcinoma epithelium', 'debr...   \n",
       "2  ['cancer-associated stroma', 'smooth muscle', ...   \n",
       "3  ['colorectal adenocarcinoma epithelium', 'debr...   \n",
       "4  ['colorectal adenocarcinoma epithelium', 'debr...   \n",
       "5  ['cancer-associated stroma', 'smooth muscle', ...   \n",
       "6  ['colorectal adenocarcinoma epithelium', 'debr...   \n",
       "7  ['cancer-associated stroma', 'smooth muscle', ...   \n",
       "\n",
       "                                       Voting Result  \n",
       "0                                                NaN  \n",
       "1                                                NaN  \n",
       "2                                                NaN  \n",
       "3  [['cancer-associated stroma', 'debris', 'color...  \n",
       "4                                                NaN  \n",
       "5                                                NaN  \n",
       "6                                                NaN  \n",
       "7  [['background', 'smooth muscle', 'cancer-assoc...  "
      ]
     },
     "execution_count": 164,
     "metadata": {},
     "output_type": "execute_result"
    }
   ],
   "source": [
    "rs[(rs['experiment'] == 0) & (rs['model_type'] == 'openai')] #.to_csv(f'{DATASET_NAME}_results_Algorithm{ALGORITHM_NUMBER}_EXP1.csv', index=False)"
   ]
  },
  {
   "cell_type": "code",
   "execution_count": 165,
   "metadata": {},
   "outputs": [],
   "source": [
    "rs_gpt_4o = rs[(rs['number of classes'] == 1) & (rs['model_name'] == 'gpt-4o')]\n",
    "rs_gpt_4o_mini = rs[(rs['number of classes'] == 1) & (rs['model_name'] == 'gpt-4o-mini')]"
   ]
  },
  {
   "cell_type": "code",
   "execution_count": 166,
   "metadata": {},
   "outputs": [
    {
     "data": {
      "text/html": [
       "<div>\n",
       "<style scoped>\n",
       "    .dataframe tbody tr th:only-of-type {\n",
       "        vertical-align: middle;\n",
       "    }\n",
       "\n",
       "    .dataframe tbody tr th {\n",
       "        vertical-align: top;\n",
       "    }\n",
       "\n",
       "    .dataframe thead th {\n",
       "        text-align: right;\n",
       "    }\n",
       "</style>\n",
       "<table border=\"1\" class=\"dataframe\">\n",
       "  <thead>\n",
       "    <tr style=\"text-align: right;\">\n",
       "      <th></th>\n",
       "      <th>experiment</th>\n",
       "      <th>number of classes</th>\n",
       "      <th>model_name</th>\n",
       "      <th>model_type</th>\n",
       "      <th>accuracy</th>\n",
       "      <th>image_paths</th>\n",
       "      <th>LLM Predicted Classes</th>\n",
       "      <th>Correct Classes</th>\n",
       "      <th>Voting Result</th>\n",
       "    </tr>\n",
       "  </thead>\n",
       "  <tbody>\n",
       "    <tr>\n",
       "      <th>7</th>\n",
       "      <td>0</td>\n",
       "      <td>1</td>\n",
       "      <td>gpt-4o</td>\n",
       "      <td>openai</td>\n",
       "      <td>43 out of 100</td>\n",
       "      <td>['../Datasets/PathMNIST/test\\\\7\\\\image_2935.pn...</td>\n",
       "      <td>['smooth muscle', 'cancer-associated stroma', ...</td>\n",
       "      <td>['cancer-associated stroma', 'smooth muscle', ...</td>\n",
       "      <td>[['background', 'smooth muscle', 'cancer-assoc...</td>\n",
       "    </tr>\n",
       "  </tbody>\n",
       "</table>\n",
       "</div>"
      ],
      "text/plain": [
       "   experiment  number of classes model_name model_type       accuracy  \\\n",
       "7           0                  1     gpt-4o     openai  43 out of 100   \n",
       "\n",
       "                                         image_paths  \\\n",
       "7  ['../Datasets/PathMNIST/test\\\\7\\\\image_2935.pn...   \n",
       "\n",
       "                               LLM Predicted Classes  \\\n",
       "7  ['smooth muscle', 'cancer-associated stroma', ...   \n",
       "\n",
       "                                     Correct Classes  \\\n",
       "7  ['cancer-associated stroma', 'smooth muscle', ...   \n",
       "\n",
       "                                       Voting Result  \n",
       "7  [['background', 'smooth muscle', 'cancer-assoc...  "
      ]
     },
     "execution_count": 166,
     "metadata": {},
     "output_type": "execute_result"
    }
   ],
   "source": [
    "rs_gpt_4o"
   ]
  },
  {
   "cell_type": "code",
   "execution_count": 167,
   "metadata": {},
   "outputs": [
    {
     "data": {
      "text/html": [
       "<div>\n",
       "<style scoped>\n",
       "    .dataframe tbody tr th:only-of-type {\n",
       "        vertical-align: middle;\n",
       "    }\n",
       "\n",
       "    .dataframe tbody tr th {\n",
       "        vertical-align: top;\n",
       "    }\n",
       "\n",
       "    .dataframe thead th {\n",
       "        text-align: right;\n",
       "    }\n",
       "</style>\n",
       "<table border=\"1\" class=\"dataframe\">\n",
       "  <thead>\n",
       "    <tr style=\"text-align: right;\">\n",
       "      <th></th>\n",
       "      <th>experiment</th>\n",
       "      <th>number of classes</th>\n",
       "      <th>model_name</th>\n",
       "      <th>model_type</th>\n",
       "      <th>accuracy</th>\n",
       "      <th>image_paths</th>\n",
       "      <th>LLM Predicted Classes</th>\n",
       "      <th>Correct Classes</th>\n",
       "      <th>Voting Result</th>\n",
       "    </tr>\n",
       "  </thead>\n",
       "  <tbody>\n",
       "    <tr>\n",
       "      <th>3</th>\n",
       "      <td>0</td>\n",
       "      <td>1</td>\n",
       "      <td>gpt-4o-mini</td>\n",
       "      <td>openai</td>\n",
       "      <td>30 out of 100</td>\n",
       "      <td>['../Datasets/PathMNIST/test\\\\8\\\\image_1754.pn...</td>\n",
       "      <td>['colorectal adenocarcinoma epithelium', 'lymp...</td>\n",
       "      <td>['colorectal adenocarcinoma epithelium', 'debr...</td>\n",
       "      <td>[['cancer-associated stroma', 'debris', 'color...</td>\n",
       "    </tr>\n",
       "  </tbody>\n",
       "</table>\n",
       "</div>"
      ],
      "text/plain": [
       "   experiment  number of classes   model_name model_type       accuracy  \\\n",
       "3           0                  1  gpt-4o-mini     openai  30 out of 100   \n",
       "\n",
       "                                         image_paths  \\\n",
       "3  ['../Datasets/PathMNIST/test\\\\8\\\\image_1754.pn...   \n",
       "\n",
       "                               LLM Predicted Classes  \\\n",
       "3  ['colorectal adenocarcinoma epithelium', 'lymp...   \n",
       "\n",
       "                                     Correct Classes  \\\n",
       "3  ['colorectal adenocarcinoma epithelium', 'debr...   \n",
       "\n",
       "                                       Voting Result  \n",
       "3  [['cancer-associated stroma', 'debris', 'color...  "
      ]
     },
     "execution_count": 167,
     "metadata": {},
     "output_type": "execute_result"
    }
   ],
   "source": [
    "rs_gpt_4o_mini"
   ]
  },
  {
   "cell_type": "markdown",
   "metadata": {},
   "source": [
    "#### Get Boostrap results"
   ]
  },
  {
   "cell_type": "code",
   "execution_count": null,
   "metadata": {},
   "outputs": [],
   "source": [
    "# Generate 30 random numbers and use a seed to keep the results consistent\n",
    "rand."
   ]
  },
  {
   "cell_type": "code",
   "execution_count": 13,
   "metadata": {},
   "outputs": [
    {
     "ename": "TypeError",
     "evalue": "randint() got an unexpected keyword argument 'seed'",
     "output_type": "error",
     "traceback": [
      "\u001b[1;31m---------------------------------------------------------------------------\u001b[0m",
      "\u001b[1;31mTypeError\u001b[0m                                 Traceback (most recent call last)",
      "Cell \u001b[1;32mIn[13], line 2\u001b[0m\n\u001b[0;32m      1\u001b[0m \u001b[38;5;66;03m# Generate 30 random numbers with a seed of 1000\u001b[39;00m\n\u001b[1;32m----> 2\u001b[0m random_numbers \u001b[38;5;241m=\u001b[39m \u001b[43mnp\u001b[49m\u001b[38;5;241;43m.\u001b[39;49m\u001b[43mrandom\u001b[49m\u001b[38;5;241;43m.\u001b[39;49m\u001b[43mrandint\u001b[49m\u001b[43m(\u001b[49m\u001b[38;5;241;43m0\u001b[39;49m\u001b[43m,\u001b[49m\u001b[43m \u001b[49m\u001b[38;5;241;43m1000\u001b[39;49m\u001b[43m,\u001b[49m\u001b[43m \u001b[49m\u001b[38;5;241;43m30\u001b[39;49m\u001b[43m,\u001b[49m\u001b[43m \u001b[49m\u001b[43mseed\u001b[49m\u001b[38;5;241;43m=\u001b[39;49m\u001b[38;5;241;43m1000\u001b[39;49m\u001b[43m)\u001b[49m\n",
      "File \u001b[1;32mnumpy\\\\random\\\\mtrand.pyx:679\u001b[0m, in \u001b[0;36mnumpy.random.mtrand.RandomState.randint\u001b[1;34m()\u001b[0m\n",
      "\u001b[1;31mTypeError\u001b[0m: randint() got an unexpected keyword argument 'seed'"
     ]
    }
   ],
   "source": [
    "# Generate 30 random numbers with a seed of 1000\n",
    "random_numbers = np.random.randint(0, 1000, 30, seed=1000)"
   ]
  },
  {
   "cell_type": "code",
   "execution_count": 12,
   "metadata": {},
   "outputs": [
    {
     "data": {
      "text/plain": [
       "array([222, 471, 929, 290,  45, 333, 641, 247, 792, 409, 947, 498, 601,\n",
       "        64,  11, 348,  47, 335, 365, 875, 756, 458, 271, 157, 718, 167,\n",
       "       285, 702, 590, 919])"
      ]
     },
     "execution_count": 12,
     "metadata": {},
     "output_type": "execute_result"
    }
   ],
   "source": [
    "random_numbers"
   ]
  },
  {
   "cell_type": "code",
   "execution_count": 168,
   "metadata": {},
   "outputs": [
    {
     "name": "stdout",
     "output_type": "stream",
     "text": [
      "Random State: 1000\n",
      "GPT-4o\n",
      "54 out of 100\n",
      "GPT-4o-mini\n",
      "32 out of 100\n",
      "\n",
      "Random State: 2000\n",
      "GPT-4o\n",
      "42 out of 100\n",
      "GPT-4o-mini\n",
      "22 out of 100\n",
      "\n"
     ]
    }
   ],
   "source": [
    "random_states = [1000, 2000]\n",
    "\n",
    "for random_state in random_states:\n",
    "    print(f'Random State: {random_state}')\n",
    "    print('GPT-4o')\n",
    "    print(get_bootstrap_results(rs_gpt_4o, random_state))\n",
    "    print('GPT-4o-mini')\n",
    "    print(get_bootstrap_results(rs_gpt_4o_mini, random_state))\n",
    "    print('')"
   ]
  },
  {
   "cell_type": "code",
   "execution_count": 123,
   "metadata": {},
   "outputs": [
    {
     "name": "stdout",
     "output_type": "stream",
     "text": [
      "Using downloaded and verified file: C:\\Users\\azeezidris\\.medmnist\\pathmnist_224.npz\n"
     ]
    }
   ],
   "source": [
    "from medmnist import PathMNIST\n",
    "dataset = PathMNIST(split='test', download=True, size = 224)"
   ]
  },
  {
   "cell_type": "code",
   "execution_count": 25,
   "metadata": {},
   "outputs": [],
   "source": [
    "from Important_script_1 import save_npz_images"
   ]
  },
  {
   "cell_type": "code",
   "execution_count": 124,
   "metadata": {},
   "outputs": [
    {
     "name": "stdout",
     "output_type": "stream",
     "text": [
      "Saved 7180 images from test split\n",
      "Number of classes: 9\n"
     ]
    }
   ],
   "source": [
    "save_npz_images(\"C:\\\\Users\\\\azeezidris\\\\.medmnist\\\\pathmnist_224.npz\", 'PathMNIST', 'test')"
   ]
  },
  {
   "cell_type": "code",
   "execution_count": 125,
   "metadata": {},
   "outputs": [],
   "source": [
    "from PIL import Image\n",
    "import os\n",
    "from pathlib import Path\n",
    "from typing import Set, Tuple\n",
    "\n",
    "def get_image_sizes(folder_path: str) -> Set[Tuple[int, int]]:\n",
    "    \"\"\"\n",
    "    Recursively scan a folder and its subfolders to get all unique image sizes.\n",
    "    \n",
    "    Args:\n",
    "        folder_path (str): Path to the folder containing images\n",
    "        \n",
    "    Returns:\n",
    "        Set[Tuple[int, int]]: Set of unique image sizes as (width, height) tuples\n",
    "        \n",
    "    Example:\n",
    "        sizes = get_image_sizes(\"path/to/image/folder\")\n",
    "        if len(sizes) == 1:\n",
    "            print(\"All images have the same size:\", next(iter(sizes)))\n",
    "        else:\n",
    "            print(\"Found different image sizes:\", sizes)\n",
    "    \"\"\"\n",
    "    # Common image extensions\n",
    "    IMAGE_EXTENSIONS = {'.jpg', '.jpeg', '.png', '.gif', '.bmp', '.tiff', '.webp'}\n",
    "    \n",
    "    # Set to store unique image sizes\n",
    "    sizes = set()\n",
    "    \n",
    "    # Convert to Path object for easier handling\n",
    "    root_path = Path(folder_path)\n",
    "    \n",
    "    try:\n",
    "        # Walk through all files in the folder and subfolders\n",
    "        for file_path in root_path.rglob('*'):\n",
    "            # Check if the file is an image based on extension\n",
    "            if file_path.suffix.lower() in IMAGE_EXTENSIONS:\n",
    "                try:\n",
    "                    # Open image and get size\n",
    "                    with Image.open(file_path) as img:\n",
    "                        sizes.add(img.size)\n",
    "                except Exception as e:\n",
    "                    print(f\"Error processing {file_path}: {str(e)}\")\n",
    "                    continue\n",
    "    \n",
    "    except Exception as e:\n",
    "        print(f\"Error accessing folder {folder_path}: {str(e)}\")\n",
    "        return set()\n",
    "    \n",
    "    return sizes\n",
    "\n",
    "# Example usage\n",
    "def check_image_sizes(folder_path: str) -> None:\n",
    "    \"\"\"\n",
    "    Check and report if all images in a folder have the same size.\n",
    "    \n",
    "    Args:\n",
    "        folder_path (str): Path to the folder containing images\n",
    "    \"\"\"\n",
    "    sizes = get_image_sizes(folder_path)\n",
    "    \n",
    "    if not sizes:\n",
    "        print(\"No valid images found in the folder.\")\n",
    "    elif len(sizes) == 1:\n",
    "        width, height = next(iter(sizes))\n",
    "        print(f\"All images have the same size: {width}x{height} pixels\")\n",
    "    else:\n",
    "        print(\"Found different image sizes:\")\n",
    "        for width, height in sorted(sizes):\n",
    "            print(f\"- {width}x{height} pixels\")"
   ]
  },
  {
   "cell_type": "code",
   "execution_count": 138,
   "metadata": {},
   "outputs": [
    {
     "name": "stdout",
     "output_type": "stream",
     "text": [
      "All images have the same size: 224x224 pixels\n"
     ]
    }
   ],
   "source": [
    "check_image_sizes('../Datasets/BloodMNIST/test')"
   ]
  },
  {
   "cell_type": "code",
   "execution_count": null,
   "metadata": {},
   "outputs": [],
   "source": []
  }
 ],
 "metadata": {
  "kernelspec": {
   "display_name": "Python 3",
   "language": "python",
   "name": "python3"
  },
  "language_info": {
   "codemirror_mode": {
    "name": "ipython",
    "version": 3
   },
   "file_extension": ".py",
   "mimetype": "text/x-python",
   "name": "python",
   "nbconvert_exporter": "python",
   "pygments_lexer": "ipython3",
   "version": "3.10.11"
  }
 },
 "nbformat": 4,
 "nbformat_minor": 2
}
