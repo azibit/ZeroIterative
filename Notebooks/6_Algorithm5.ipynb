{
 "cells": [
  {
   "cell_type": "markdown",
   "metadata": {},
   "source": [
    "#### This code serves to test Algorithm 5 for the Iterative Domain Information Framework"
   ]
  },
  {
   "cell_type": "code",
   "execution_count": 1,
   "metadata": {},
   "outputs": [],
   "source": [
    "import glob as glob\n",
    "import math, random\n",
    "import pandas as pd \n",
    "from DatasetNames import get_dataset_class_name\n",
    "from ExtraFunctions import *\n",
    "\n",
    "from MultiClassDescription import MultiClassDescription\n",
    "\n",
    "from MultiClassPredictionHybrid import MultiClassPredictionHybrid\n",
    "from SingleClassPredictionHybrid import SingleClassPredictionHybrid"
   ]
  },
  {
   "cell_type": "code",
   "execution_count": 2,
   "metadata": {},
   "outputs": [],
   "source": [
    "DATASET_NAME = \"OrganCMNIST\"\n",
    "NUMBER_OF_IMAGES = 3 # Total number of images to be used\n",
    "NUMBER_OF_AUGMENTATIONS = 2 # Number of augmentations to be used\n",
    "number_of_experiment = 1 # Number of experiment to be conducted\n",
    "\n",
    "source_directory = f\"../Datasets/{DATASET_NAME}/test\"  # Change this to your test directory path\n",
    "_, image_paths = get_balanced_random_images(source_directory, n = NUMBER_OF_IMAGES)\n",
    "\n",
    "random.seed(55)\n",
    "random.shuffle(image_paths)\n",
    "initial_image_paths = image_paths.copy()\n",
    "\n",
    "dataset_classes_of_interest = get_dataset_class_name(DATASET_NAME)\n",
    "init_classes_of_interest = list(dataset_classes_of_interest.values())\n",
    "\n",
    "classes_of_interest_list = [random.sample(init_classes_of_interest, len(init_classes_of_interest)) for i in range(len(image_paths))]\n",
    "\n",
    "multiclass_image_tasks = create_multiclass_augmented_image_tasks(image_paths, classes_of_interest_list, number_of_classes_to_predict=len(init_classes_of_interest), total_number_of_augmentations=NUMBER_OF_AUGMENTATIONS)"
   ]
  },
  {
   "cell_type": "markdown",
   "metadata": {},
   "source": [
    "#### Playground"
   ]
  },
  {
   "cell_type": "code",
   "execution_count": 3,
   "metadata": {},
   "outputs": [],
   "source": [
    "model_list = [\n",
    "    #     {\n",
    "    #     \"model_name\": \"claude-3-5-sonnet-20241022\",\n",
    "    #     \"model_type\": \"claude\",\n",
    "    # },\n",
    "    # {\n",
    "    #     \"model_name\": \"gpt-4o\",\n",
    "    #     \"model_type\": \"openai\",\n",
    "    # },\n",
    "    {\n",
    "        \"model_name\": \"gpt-4o-mini\",\n",
    "        \"model_type\": \"openai\",\n",
    "    }\n",
    "]"
   ]
  },
  {
   "cell_type": "code",
   "execution_count": 4,
   "metadata": {},
   "outputs": [],
   "source": [
    "mc_descriptor = MultiClassDescription(batch_size = 1, max_workers=4)\n",
    "mcp_hybrid = MultiClassPredictionHybrid(batch_size = 1, max_workers=4)\n",
    "single_hybrid = SingleClassPredictionHybrid(batch_size = 1, max_workers=4)"
   ]
  },
  {
   "cell_type": "code",
   "execution_count": 5,
   "metadata": {},
   "outputs": [
    {
     "name": "stdout",
     "output_type": "stream",
     "text": [
      "Experiment 1/1\n",
      "Model: gpt-4o-mini\n",
      "Model Type: openai\n",
      "Image Paths:  ['../Datasets/OrganCMNIST/test\\\\0\\\\image_6892.png', '../Datasets/OrganCMNIST/test\\\\10\\\\image_1209.png', '../Datasets/OrganCMNIST/test\\\\1\\\\image_198.png', '../Datasets/OrganCMNIST/test\\\\0\\\\image_6892.png', '../Datasets/OrganCMNIST/test\\\\1\\\\image_198.png', '../Datasets/OrganCMNIST/test\\\\10\\\\image_1209.png']\n",
      "Image Paths:  6\n",
      "Predicted Classes of Interest: [['bladder', 'lung-left', 'spleen', 'heart', 'kidney-left', 'pancreas'], ['gallbladder', 'liver', 'pancreas', 'kidney-right'], ['heart', 'kidney-left', 'spleen', 'pancreas', 'bladder', 'liver'], ['heart', 'lung-right', 'spleen', 'liver', 'kidney-right'], ['liver', 'heart', 'spleen', 'lung-right', 'kidney-left'], ['kidney-left', 'spleen', 'pancreas', 'liver', 'kidney-right', 'bladder']]\n",
      "Correct Classes: ['bladder', 'spleen', 'femur-left', 'bladder', 'femur-left', 'spleen']\n",
      "Accuracy: 2 out of 6\n",
      "Image Paths:  ['../Datasets/OrganCMNIST/test\\\\0\\\\image_6892.png', '../Datasets/OrganCMNIST/test\\\\0\\\\image_6892.png', '../Datasets/OrganCMNIST/test\\\\1\\\\image_198.png', '../Datasets/OrganCMNIST/test\\\\10\\\\image_1209.png', '../Datasets/OrganCMNIST/test\\\\1\\\\image_198.png', '../Datasets/OrganCMNIST/test\\\\10\\\\image_1209.png']\n",
      "Image Paths:  6\n",
      "Predicted Classes of Interest: [['lung-right', 'spleen', 'kidney-right'], ['spleen', 'kidney-left', 'bladder'], ['kidney-left', 'liver', 'spleen'], ['kidney-right', 'liver', 'gallbladder'], ['spleen', 'liver', 'heart'], ['kidney-right', 'liver', 'spleen']]\n",
      "Correct Classes: ['bladder', 'bladder', 'femur-left', 'spleen', 'femur-left', 'spleen']\n",
      "Accuracy: 2 out of 6\n",
      "Image Paths:  ['../Datasets/OrganCMNIST/test\\\\0\\\\image_6892.png', '../Datasets/OrganCMNIST/test\\\\10\\\\image_1209.png', '../Datasets/OrganCMNIST/test\\\\1\\\\image_198.png', '../Datasets/OrganCMNIST/test\\\\0\\\\image_6892.png', '../Datasets/OrganCMNIST/test\\\\1\\\\image_198.png', '../Datasets/OrganCMNIST/test\\\\10\\\\image_1209.png']\n",
      "Image Paths:  6\n",
      "Predicted Classes of Interest: [['spleen', 'lung-right'], ['gallbladder', 'liver'], ['spleen', 'liver'], ['spleen', 'kidney-left'], ['spleen', 'liver'], ['liver', 'kidney-right']]\n",
      "Correct Classes: ['bladder', 'spleen', 'femur-left', 'bladder', 'femur-left', 'spleen']\n",
      "Accuracy: 0 out of 6\n",
      "Predicted Classes of Interest: ['spleen', 'gallbladder', 'spleen']\n",
      "Correct Classes: ['femur-left', 'spleen', 'bladder']\n",
      "Accuracy: 0 out of 3\n"
     ]
    }
   ],
   "source": [
    "exp_results = []\n",
    "\n",
    "for experiment in range(number_of_experiment):\n",
    "    print(f\"Experiment {experiment+1}/{number_of_experiment}\")\n",
    "\n",
    "    # Iterate over the models\n",
    "    for model in model_list:\n",
    "        model_name = model[\"model_name\"]\n",
    "        model_type = model[\"model_type\"]\n",
    "\n",
    "        print(f\"Model: {model_name}\")\n",
    "        print(f\"Model Type: {model_type}\")\n",
    "\n",
    "        multiclass_image_tasks = create_multiclass_augmented_image_tasks(image_paths, classes_of_interest_list, number_of_classes_to_predict=len(init_classes_of_interest), total_number_of_augmentations=NUMBER_OF_AUGMENTATIONS)\n",
    "\n",
    "        mc_descriptor.update_model(model_name)\n",
    "        mcp_hybrid.update_model(model_name)\n",
    "        single_hybrid.update_model(model_name)\n",
    "\n",
    "        # For each model, initialize the variables for the Algorithm\n",
    "        n = len(init_classes_of_interest)\n",
    "        k = 2\n",
    "        threshold = 2\n",
    "        number_of_classes_to_predict = math.ceil(n / k)\n",
    "        image_paths = initial_image_paths\n",
    "        voting_result_list = None    \n",
    "\n",
    "        # Get the descriptions of the images\n",
    "        rs = mc_descriptor.process_images(multiclass_image_tasks, model_type=model_type)   \n",
    "\n",
    "        # Create Multiclass Image Tasks from the descriptions\n",
    "        multiclass_image_tasks = []\n",
    "        for item in rs['images']:\n",
    "            image_path = item['image_path']\n",
    "            classes_to_use = random.sample(init_classes_of_interest, len(init_classes_of_interest))\n",
    "\n",
    "            # Combine all the descriptions into one so that it can be seen as a single medical report and also add headings to each section\n",
    "            combined_description = f\"Technical Quality: {item['technical_quality']}\\nAnatomical Description: {item['anatomical_description']}\\nFindings: {item['findings']}\"\n",
    "            \n",
    "            task = MultiClassImageTask(image_path=image_path, classes=classes_to_use)\n",
    "            task.set_image_textual_description(combined_description)\n",
    "            n = len(init_classes_of_interest)\n",
    "            k = 2\n",
    "            task.set_num_predictions(number_of_classes_to_predict)\n",
    "            task.encoded_image = item['encoded_image']\n",
    "            multiclass_image_tasks.append(task)\n",
    "\n",
    "        while number_of_classes_to_predict >= threshold:\n",
    "\n",
    "            # Prompt the model to predict \"number_of_classes_to_predict\" classes for each image\n",
    "            rs = mcp_hybrid.process_hybrid(multiclass_image_tasks, model_type=model_type)\n",
    "\n",
    "            # Set the predicted classes as the new classes of interest\n",
    "            result_list, image_paths, classes_of_interest_list = extract_image_classes_from_multiclass_predictions(rs, number_of_classes_to_predict)\n",
    "\n",
    "            print(\"Image Paths: \", image_paths)\n",
    "            print(\"Image Paths: \", len(image_paths))\n",
    "\n",
    "            log_experiment_results(dataset_classes_of_interest, exp_results, experiment, model_name, model_type, number_of_classes_to_predict, image_paths, classes_of_interest_list)\n",
    "\n",
    "            # Update the number of classes to predict\n",
    "            number_of_classes_to_predict = math.ceil(number_of_classes_to_predict / k)\n",
    "\n",
    "            multiclass_image_tasks = create_new_multitask_image_tasks(number_of_classes_to_predict, result_list)\n",
    "\n",
    "        if rs:\n",
    "            # Result from Multiclass Prediction\n",
    "            result_list, _, _ = extract_image_classes_from_multiclass_predictions(rs)\n",
    "\n",
    "            # Merge augmentation results\n",
    "            result_list, voting_result_list = transform_result_list_to_single_image_tasks(result_list)\n",
    "        else:\n",
    "            # Go to SingleTask result list directly\n",
    "            result_list = create_singleclass_image_tasks(image_paths, classes_of_interest_list)\n",
    "\n",
    "        # Predict the single classes for each image\n",
    "        f_res = single_hybrid.process_hybrid(result_list, model_type)\n",
    "        correct_classes, pred_classes, image_paths = extract_single_classes(f_res, dataset_classes_of_interest)\n",
    "\n",
    "        log_experiment_results(dataset_classes_of_interest, exp_results, experiment, model_name, model_type, number_of_classes_to_predict, image_paths, pred_classes, voting_result_list)"
   ]
  },
  {
   "cell_type": "code",
   "execution_count": 6,
   "metadata": {},
   "outputs": [
    {
     "name": "stdout",
     "output_type": "stream",
     "text": [
      "Technical Quality: {'image_modality': 'Not specified', 'positioning': 'Not specified', 'image_quality': 'Not specified'}\n",
      "Anatomical Description: {'location': 'Not specified', 'anatomical_landmarks': [], 'orientation': 'Not specified'}\n",
      "Findings: {'composition': {'density_characteristics': 'Not specified', 'internal_architecture': 'Not specified'}, 'morphology': {'shape': 'Not specified', 'margins': 'Not specified', 'size': 'Not specified'}, 'distribution': {'spatial_arrangement': 'Not specified', 'relationship_to_landmarks': 'Not specified'}, 'signal_characteristics': {'intensity_patterns': 'Not specified', 'texture': 'Not specified'}}\n"
     ]
    }
   ],
   "source": [
    "print(result_list[0].image_textual_description)"
   ]
  },
  {
   "cell_type": "code",
   "execution_count": 7,
   "metadata": {},
   "outputs": [],
   "source": [
    "x_sam = pd.DataFrame(exp_results)"
   ]
  },
  {
   "cell_type": "code",
   "execution_count": 8,
   "metadata": {},
   "outputs": [],
   "source": [
    "pd.DataFrame(exp_results).to_csv(f\"{DATASET_NAME}_results_Algorithm5_EXP1_batch_size_1.csv\", index=False)"
   ]
  },
  {
   "cell_type": "code",
   "execution_count": null,
   "metadata": {},
   "outputs": [],
   "source": []
  }
 ],
 "metadata": {
  "kernelspec": {
   "display_name": "Python 3",
   "language": "python",
   "name": "python3"
  },
  "language_info": {
   "codemirror_mode": {
    "name": "ipython",
    "version": 3
   },
   "file_extension": ".py",
   "mimetype": "text/x-python",
   "name": "python",
   "nbconvert_exporter": "python",
   "pygments_lexer": "ipython3",
   "version": "3.10.11"
  }
 },
 "nbformat": 4,
 "nbformat_minor": 2
}
